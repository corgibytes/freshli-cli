{
 "cells": [
  {
   "cell_type": "code",
   "execution_count": 1,
   "metadata": {
    "nteract": {
     "transient": {
      "deleting": false
     }
    },
    "outputExpanded": false
   },
   "outputs": [
    {
     "data": {
      "text/html": [
       "<script type=\"text/javascript\">#!javascript\r\n",
       "if ((typeof(requirejs) !==  typeof(Function)) || (typeof(requirejs.config) !== typeof(Function))) { \r\n",
       "    let script = document.createElement(\"script\"); \r\n",
       "    script.setAttribute(\"src\", \"https://cdnjs.cloudflare.com/ajax/libs/require.js/2.3.6/require.min.js\"); \r\n",
       "    script.onload = function(){\r\n",
       "        loadDotnetInteractiveApi();\r\n",
       "    };\r\n",
       "    document.getElementsByTagName(\"head\")[0].appendChild(script); \r\n",
       "}\r\n",
       "else {\r\n",
       "    loadDotnetInteractiveApi();\r\n",
       "}\r\n",
       "\r\n",
       "function loadDotnetInteractiveApi(){\r\n",
       "    let apiRequire = requirejs.config({context:\"dotnet-interactive.38996.64761\",paths:{dotnetInteractive:\"http://localhost:64761/resources/dotnet-interactive\"}});\r\n",
       "    apiRequire(['dotnetInteractive'], \r\n",
       "    function(api) {       \r\n",
       "        api.createDotnetInteractiveClient(\"http://localhost:64761/\", window);\r\n",
       "    },\r\n",
       "    function(error){\r\n",
       "        console.log(error);\r\n",
       "    });\r\n",
       "}</script>"
      ]
     },
     "metadata": {},
     "output_type": "display_data"
    },
    {
     "name": "stdout",
     "output_type": "stream",
     "text": [
      "CODE_OF_CONDUCT.md\n",
      "LICENSE\n",
      "LibMetrics\n",
      "LibMetrics.Test\n",
      "LibMetrics.sln\n",
      "LibMetrics.sln.DotSettings.user\n",
      "README.md\n",
      "Sample.ipynb\n",
      "Untitled.ipynb\n",
      "global.json\n"
     ]
    }
   ],
   "source": [
    "#!pwsh\n",
    "ls"
   ]
  },
  {
   "cell_type": "code",
   "execution_count": 2,
   "metadata": {
    "nteract": {
     "transient": {
      "deleting": false
     }
    },
    "outputExpanded": false
   },
   "outputs": [
    {
     "name": "stdout",
     "output_type": "stream",
     "text": [
      "Microsoft (R) Build Engine version 16.6.0+5ff7b0c9e for .NET Core\n",
      "Copyright (C) Microsoft Corporation. All rights reserved.\n",
      "\n",
      "  Determining projects to restore...\n",
      "  Restored /Users/mscottford/src/corgibytes/libmetrics/LibMetrics/LibMetrics.csproj (in 248 ms).\n",
      "  Restored /Users/mscottford/src/corgibytes/libmetrics/LibMetrics.Test/LibMetrics.Test.csproj (in 501 ms).\n",
      "  LibMetrics -> /Users/mscottford/src/corgibytes/libmetrics/LibMetrics/bin/Debug/netcoreapp3.1/LibMetrics.dll\n",
      "  LibMetrics.Test -> /Users/mscottford/src/corgibytes/libmetrics/LibMetrics.Test/bin/Debug/netcoreapp3.1/LibMetrics.Test.dll\n",
      "  Archive:  nokotest.zip\n",
      "    inflating: nokotest/Gemfile        \n",
      "    inflating: nokotest/Gemfile.lock   \n",
      "    inflating: nokotest/.git/config    \n",
      "   extracting: nokotest/.git/objects/0d/8f4f864a22eac5f72153cf1d77fc9791796e6d  \n",
      "   extracting: nokotest/.git/objects/93/e24fec7e2d55e1f2649989a131b1a044008e60  \n",
      "   extracting: nokotest/.git/objects/bb/e94adc863a728d5c63b1293a7d1d81ac437f30  \n",
      "   extracting: nokotest/.git/objects/6e/dae1c2dc746439f567894cf77effc7a8abf97b  \n",
      "   extracting: nokotest/.git/objects/01/7031627f36deb582d69cddd381718be0044b02  \n",
      "   extracting: nokotest/.git/objects/90/2a3082740f83776eec419c59a56e54424fdec5  \n",
      "   extracting: nokotest/.git/objects/b9/803963c64c5c8794334bb667d98c969add6fd0  \n",
      "   extracting: nokotest/.git/objects/b9/d397bcc26e2a820a2e077298f35521b154febd  \n",
      "   extracting: nokotest/.git/objects/c4/a0ab82b5bf0d03d646348bce24527d84d8bfe4  \n",
      "   extracting: nokotest/.git/objects/e1/be34540508cfb94fea222ecdc61a95652068ee  \n",
      "   extracting: nokotest/.git/objects/76/06873e8c521ba79d093029969c2da124ed03d3  \n",
      "   extracting: nokotest/.git/objects/13/963f09081c175c66d20f7dd15d23fedc789ce4  \n",
      "   extracting: nokotest/.git/HEAD      \n",
      "    inflating: nokotest/.git/info/exclude  \n",
      "    inflating: nokotest/.git/logs/HEAD  \n",
      "    inflating: nokotest/.git/logs/refs/heads/master  \n",
      "    inflating: nokotest/.git/description  \n",
      "    inflating: nokotest/.git/hooks/commit-msg.sample  \n",
      "    inflating: nokotest/.git/hooks/pre-rebase.sample  \n",
      "    inflating: nokotest/.git/hooks/pre-commit.sample  \n",
      "    inflating: nokotest/.git/hooks/applypatch-msg.sample  \n",
      "    inflating: nokotest/.git/hooks/prepare-commit-msg.sample  \n",
      "    inflating: nokotest/.git/hooks/post-update.sample  \n",
      "    inflating: nokotest/.git/hooks/pre-applypatch.sample  \n",
      "    inflating: nokotest/.git/hooks/pre-push.sample  \n",
      "    inflating: nokotest/.git/hooks/update.sample  \n",
      "   extracting: nokotest/.git/refs/heads/master  \n",
      "    inflating: nokotest/.git/index     \n",
      "   extracting: nokotest/.git/COMMIT_EDITMSG  \n",
      "\n",
      "Build succeeded.\n",
      "    0 Warning(s)\n",
      "    0 Error(s)\n",
      "\n",
      "Time Elapsed 00:00:05.54\n",
      "Microsoft (R) Build Engine version 16.6.0+5ff7b0c9e for .NET Core\n",
      "Copyright (C) Microsoft Corporation. All rights reserved.\n",
      "\n",
      "  Determining projects to restore...\n",
      "  All projects are up-to-date for restore.\n",
      "  LibMetrics -> /Users/mscottford/src/corgibytes/libmetrics/LibMetrics/bin/Debug/netcoreapp3.1/LibMetrics.dll\n",
      "  Successfully created package '/Users/mscottford/src/corgibytes/libmetrics/LibMetrics/bin/Debug/LibMetrics.1.0.0-dev-20200603T1350.nupkg'.\n",
      "\n",
      "\n",
      "    Directory: /Users/mscottford/src/corgibytes/libmetrics/LibMetrics/bin/Debug\n",
      "\n",
      "Mode                 LastWriteTime         Length Name\n",
      "----                 -------------         ------ ----\n",
      "-----            6/3/2020  1:50 PM          16572 LibMetrics.1.0.0-dev-20200603T1350.nupkg\n",
      "-----           5/25/2020  2:16 PM          15626 LibMetrics.1.0.0-dev.2005251416.nupkg\n",
      "-----           5/25/2020  2:17 PM          15628 LibMetrics.1.0.0-dev.2005251417.nupkg\n",
      "-----           5/25/2020  2:37 PM          15625 LibMetrics.1.0.0-dev.2005251437.nupkg\n",
      "-----           5/25/2020  1:38 PM          15619 LibMetrics.1.0.0-dev2005251338.nupkg\n",
      "-----           5/25/2020  1:39 PM          15618 LibMetrics.1.0.0-dev2005251339.nupkg\n",
      "-----           5/25/2020  1:46 PM          15615 LibMetrics.1.0.0-dev2005251346.nupkg\n",
      "-----           5/25/2020  1:47 PM          15619 LibMetrics.1.0.0-dev2005251347.nupkg\n",
      "-----           5/25/2020  1:49 PM          15623 LibMetrics.1.0.0-dev2005251349.nupkg\n",
      "-----           5/25/2020  2:16 PM          15620 LibMetrics.1.0.0-dev2005251416.nupkg\n",
      "\n"
     ]
    },
    {
     "data": {
      "text/plain": [
       "Wall time: 10435.9405ms"
      ]
     },
     "metadata": {},
     "output_type": "display_data"
    }
   ],
   "source": [
    "#!pwsh\n",
    "#!time\n",
    "dotnet build\n",
    "dotnet pack\n",
    "Get-ChildItem -Recurse *.nupkg"
   ]
  },
  {
   "cell_type": "code",
   "execution_count": 2,
   "metadata": {
    "nteract": {
     "transient": {
      "deleting": false
     }
    },
    "outputExpanded": false
   },
   "outputs": [
    {
     "data": {
      "text/html": [
       "<div><strong>Restore sources</strong><ul><li><span>/Users/mscottford/src/corgibytes/libmetrics/LibMetrics/bin/Debug</span></li></ul></div>"
      ]
     },
     "metadata": {},
     "output_type": "display_data"
    },
    {
     "data": {
      "text/html": [
       "Installed package LibMetrics version 1.0.0-dev.2005251416"
      ]
     },
     "metadata": {},
     "output_type": "display_data"
    }
   ],
   "source": [
    "#i nuget:/Users/mscottford/src/corgibytes/libmetrics/LibMetrics/bin/Debug\n",
    "#r nuget:libmetrics,1.0.0-dev"
   ]
  },
  {
   "cell_type": "code",
   "execution_count": 3,
   "metadata": {
    "nteract": {
     "transient": {
      "deleting": false
     }
    },
    "outputExpanded": false
   },
   "outputs": [
    {
     "data": {
      "text/html": [
       "<div id=\"58fdbb09-fa2d-45b5-acce-dd77ed1909ef\" style=\"width: 900px; height: 500px;\"></div>\r\n",
       "<script type=\"text/javascript\">\n",
       "\r\n",
       "var renderPlotly = function() {\r\n",
       "    var xplotRequire = requirejs.config({context:'xplot-3.0.1',paths:{plotly:'https://cdn.plot.ly/plotly-1.49.2.min'}});\r\n",
       "    xplotRequire(['plotly'], function(Plotly) {\n",
       "\n",
       "            var data = [{\"type\":\"scattergl\",\"x\":[\"2017-01-01T00:00:00\",\"2017-02-01T00:00:00\",\"2017-03-01T00:00:00\",\"2017-04-01T00:00:00\",\"2017-05-01T00:00:00\",\"2017-06-01T00:00:00\",\"2017-07-01T00:00:00\",\"2017-08-01T00:00:00\",\"2017-09-01T00:00:00\",\"2017-10-01T00:00:00\",\"2017-11-01T00:00:00\",\"2017-12-01T00:00:00\",\"2018-01-01T00:00:00\",\"2018-02-01T00:00:00\",\"2018-03-01T00:00:00\",\"2018-04-01T00:00:00\",\"2018-05-01T00:00:00\",\"2018-06-01T00:00:00\",\"2018-07-01T00:00:00\",\"2018-08-01T00:00:00\",\"2018-09-01T00:00:00\",\"2018-10-01T00:00:00\",\"2018-11-01T00:00:00\",\"2018-12-01T00:00:00\",\"2019-01-01T00:00:00\",\"2019-02-01T00:00:00\",\"2019-03-01T00:00:00\",\"2019-04-01T00:00:00\",\"2019-05-01T00:00:00\",\"2019-06-01T00:00:00\",\"2019-07-01T00:00:00\",\"2019-08-01T00:00:00\",\"2019-09-01T00:00:00\",\"2019-10-01T00:00:00\",\"2019-11-01T00:00:00\",\"2019-12-01T00:00:00\",\"2020-01-01T00:00:00\",\"2020-02-01T00:00:00\",\"2020-03-01T00:00:00\",\"2020-04-01T00:00:00\",\"2020-05-01T00:00:00\",\"2020-06-01T00:00:00\"],\"y\":[0.0,0.021917808219178082,0.021917808219178082,0.2273972602739726,0.2273972602739726,0.3643835616438356,1.8520547945205479,1.8520547945205479,1.8520547945205479,2.4164383561643836,2.4164383561643836,2.4164383561643836,0.0,0.36164383561643837,0.36164383561643837,0.36164383561643837,0.36164383561643837,0.36164383561643837,0.7397260273972602,0.7890410958904109,0.7890410958904109,0.7890410958904109,1.0438356164383562,1.0438356164383562,0.0,0.07123287671232877,0.07123287671232877,0.26575342465753427,0.3424657534246575,0.3424657534246575,0.3424657534246575,0.3424657534246575,0.6465753424657534,0.6465753424657534,0.8684931506849315,0.8684931506849315,0.9616438356164384,0.9616438356164384,2.378082191780822,2.432876712328767,2.432876712328767,2.432876712328767],\"name\":\"libmetrics-fixture-ruby-nokotest\"},{\"type\":\"scattergl\",\"x\":[\"2013-09-01T00:00:00\",\"2013-10-01T00:00:00\",\"2013-11-01T00:00:00\",\"2013-12-01T00:00:00\",\"2014-01-01T00:00:00\",\"2014-02-01T00:00:00\",\"2014-03-01T00:00:00\",\"2014-04-01T00:00:00\",\"2014-05-01T00:00:00\",\"2014-06-01T00:00:00\",\"2014-07-01T00:00:00\",\"2014-08-01T00:00:00\",\"2014-09-01T00:00:00\",\"2014-10-01T00:00:00\",\"2014-11-01T00:00:00\",\"2014-12-01T00:00:00\",\"2015-01-01T00:00:00\",\"2015-02-01T00:00:00\",\"2015-03-01T00:00:00\",\"2015-04-01T00:00:00\",\"2015-05-01T00:00:00\",\"2015-06-01T00:00:00\",\"2015-07-01T00:00:00\",\"2015-08-01T00:00:00\",\"2015-09-01T00:00:00\",\"2015-10-01T00:00:00\",\"2015-11-01T00:00:00\",\"2015-12-01T00:00:00\",\"2016-01-01T00:00:00\",\"2016-02-01T00:00:00\",\"2016-03-01T00:00:00\",\"2016-04-01T00:00:00\",\"2016-05-01T00:00:00\",\"2016-06-01T00:00:00\",\"2016-07-01T00:00:00\",\"2016-08-01T00:00:00\",\"2016-09-01T00:00:00\",\"2016-10-01T00:00:00\",\"2016-11-01T00:00:00\",\"2016-12-01T00:00:00\",\"2017-01-01T00:00:00\",\"2017-02-01T00:00:00\",\"2017-03-01T00:00:00\",\"2017-04-01T00:00:00\",\"2017-05-01T00:00:00\",\"2017-06-01T00:00:00\",\"2017-07-01T00:00:00\",\"2017-08-01T00:00:00\",\"2017-09-01T00:00:00\",\"2017-10-01T00:00:00\",\"2017-11-01T00:00:00\",\"2017-12-01T00:00:00\",\"2018-01-01T00:00:00\",\"2018-02-01T00:00:00\",\"2018-03-01T00:00:00\",\"2018-04-01T00:00:00\",\"2018-05-01T00:00:00\",\"2018-06-01T00:00:00\",\"2018-07-01T00:00:00\",\"2018-08-01T00:00:00\",\"2018-09-01T00:00:00\",\"2018-10-01T00:00:00\",\"2018-11-01T00:00:00\",\"2018-12-01T00:00:00\",\"2019-01-01T00:00:00\",\"2019-02-01T00:00:00\",\"2019-03-01T00:00:00\",\"2019-04-01T00:00:00\",\"2019-05-01T00:00:00\",\"2019-06-01T00:00:00\",\"2019-07-01T00:00:00\",\"2019-08-01T00:00:00\",\"2019-09-01T00:00:00\",\"2019-10-01T00:00:00\",\"2019-11-01T00:00:00\",\"2019-12-01T00:00:00\",\"2020-01-01T00:00:00\",\"2020-02-01T00:00:00\",\"2020-03-01T00:00:00\",\"2020-04-01T00:00:00\",\"2020-05-01T00:00:00\",\"2020-06-01T00:00:00\"],\"y\":[7.443835616438356,4.649315068493152,8.389041095890411,20.879452054794523,11.761643835616438,10.986301369863012,17.813698630136987,10.939726027397262,21.676712328767124,16.85753424657534,38.77808219178082,26.989041095890418,32.11780821917809,36.01917808219178,41.94520547945205,25.701369863013696,24.353424657534248,38.81917808219178,48.4109589041096,56.49863013698631,65.76712328767124,68.69589041095891,18.06027397260274,25.81369863013698,13.972602739726028,22.03013698630137,30.789041095890408,18.27945205479452,25.3041095890411,20.350684931506848,32.65753424657534,26.863013698630134,37.295890410958904,23.27945205479452,22.02191780821918,34.249315068493146,17.076712328767126,22.512328767123286,26.742465753424646,43.586301369863016,25.369863013698627,37.53150684931507,51.334246575342455,61.82739726027396,72.65205479452052,11.934246575342463,21.200000000000006,16.27945205479452,15.084931506849314,24.599999999999994,29.73972602739726,25.939726027397253,28.88493150684931,47.00547945205481,33.63561643835616,45.69315068493151,54.3178082191781,61.78082191780825,36.39452054794521,24.47671232876712,28.42739726027397,32.35068493150684,43.534246575342465,61.31232876712328,38.6,43.090410958904116,33.74794520547946,48.912328767123284,61.84109589041094,39.67123287671234,37.24931506849316,48.1123287671233,44.671232876712324,55.96164383561641,72.2520547945205,75.43013698630135,34.868493150684934,36.97534246575342,49.00821917808219,38.38904109589042,48.43287671232877,33.75616438356164],\"name\":\"feedbin\"}];\n",
       "            var layout = {\"title\":\"LibYear over time\"};\n",
       "            Plotly.newPlot('58fdbb09-fa2d-45b5-acce-dd77ed1909ef', data, layout);\n",
       "        \n",
       "});\r\n",
       "};\r\n",
       "if ((typeof(requirejs) !==  typeof(Function)) || (typeof(requirejs.config) !== typeof(Function))) { \r\n",
       "    var script = document.createElement(\"script\"); \r\n",
       "    script.setAttribute(\"src\", \"https://cdnjs.cloudflare.com/ajax/libs/require.js/2.3.6/require.min.js\"); \r\n",
       "    script.onload = function(){\r\n",
       "        renderPlotly();\r\n",
       "    };\r\n",
       "    document.getElementsByTagName(\"head\")[0].appendChild(script); \r\n",
       "}\r\n",
       "else {\r\n",
       "    renderPlotly();\r\n",
       "}\n",
       "</script>\n"
      ]
     },
     "metadata": {},
     "output_type": "display_data"
    }
   ],
   "source": [
    "using XPlot.Plotly;\n",
    "\n",
    "using LibMetrics;\n",
    "using LibMetrics.Languages.Ruby;\n",
    "using LibMetrics.Languages.Php;\n",
    "\n",
    "ManifestFinder.Register<RubyBundlerManifestFinder>();\n",
    "ManifestFinder.Register<PhpComposerManifestFinder>();\n",
    "\n",
    "FileHistoryFinder.Register<GitFileHistoryFinder>();\n",
    "\n",
    "var runner = new Runner();\n",
    "\n",
    "var projects = new Dictionary<string, IList<MetricsResult>>();\n",
    "projects[\"libmetrics-fixture-ruby-nokotest\"] = runner.Run(\"https://github.com/corgibytes/libmetrics-fixture-ruby-nokotest\");\n",
    "projects[\"feedbin\"] = runner.Run(\"https://github.com/feedbin/feedbin\");\n",
    "\n",
    "\n",
    "var series = projects.Select(p => new Graph.Scattergl { \n",
    "  name = p.Key, \n",
    "  x = p.Value.Select(r => r.Date),\n",
    "  y = p.Value.Select(r => r.LibYear.Total)\n",
    "});\n",
    "\n",
    "\n",
    "var chart = Chart.Plot(series.ToArray());\n",
    "chart.WithTitle(\"LibYear over time\");\n",
    "display(chart)"
   ]
  },
  {
   "cell_type": "code",
   "execution_count": 4,
   "metadata": {
    "nteract": {
     "transient": {
      "deleting": false
     }
    },
    "outputExpanded": false
   },
   "outputs": [
    {
     "data": {
      "text/html": [
       "<table><thead><tr><th><i>index</i></th><th>Date</th><th>LibYear</th></tr></thead><tbody><tr><td>0</td><td>2013-09-01 00:00:00Z</td><td>[ { LibMetrics.LibYearPackageResult: Name: actionmailer, Version: 3.2.14, PublishedAt: 2013-07-22 00:00:00Z, Value: 0.07397260273972603 }, { LibMetrics.LibYearPackageResult: Name: actionpack, Version: 3.2.14, PublishedAt: 2013-07-22 00:00:00Z, Value: 0.07397260273972603 }, { LibMetrics.LibYearPackageResult: Name: activemodel, Version: 3.2.14, PublishedAt: 2013-07-22 00:00:00Z, Value: 0.07397260273972603 }, { LibMetrics.LibYearPackageResult: Name: activerecord, Version: 3.2.14, PublishedAt: 2013-07-22 00:00:00Z, Value: 0.07397260273972603 }, { LibMetrics.LibYearPackageResult: Name: activerecord-deprecated_finders, Version: 1.0.3, PublishedAt: 2013-06-11 00:00:00Z, Value: 0 }, { LibMetrics.LibYearPackageResult: Name: activesupport, Version: 3.2.14, PublishedAt: 2013-07-22 00:00:00Z, Value: 0.07397260273972603 }, { LibMetrics.LibYearPackageResult: Name: addressable, Version: 2.3.5, PublishedAt: 2013-06-27 00:00:00Z, Value: 0 }, { LibMetrics.LibYearPackageResult: Name: aggregate, Version: 0.2.2, PublishedAt: 2011-03-05 00:00:00Z, Value: 0 }, { LibMetrics.LibYearPackageResult: Name: arel, Version: 4.0.0, PublishedAt: 2013-04-18 00:00:00Z, Value: 0 }, { LibMetrics.LibYearPackageResult: Name: atomic, Version: 1.1.13, PublishedAt: 2013-08-14 00:00:00Z, Value: 0 }, { LibMetrics.LibYearPackageResult: Name: bcrypt-ruby, Version: 3.1.2, PublishedAt: 2013-08-26 00:00:00Z, Value: 1.9561643835616438 }, { LibMetrics.LibYearPackageResult: Name: better_errors, Version: 0.9.0, PublishedAt: 2013-05-24 00:00:00Z, Value: 0 }, { LibMetrics.LibYearPackageResult: Name: bourbon, Version: 3.1.8, PublishedAt: 2013-06-11 00:00:00Z, Value: 0 }, { LibMetrics.LibYearPackageResult: Name: builder, Version: 3.2.2, PublishedAt: 2013-06-01 00:00:00Z, Value: 0.6246575342465753 }, { LibMetrics.LibYearPackageResult: Name: bust_rails_etags, Version: 0.0.5, PublishedAt: 2012-10-18 00:00:00Z, Value: 0 }, { LibMetrics.LibYearPackageResult: Name: capistrano, Version: 2.15.5, PublishedAt: 2013-07-04 00:00:00Z, Value: 0 }, { LibMetrics.LibYearPackageResult: Name: carrierwave, Version: 0.9.0, PublishedAt: 2013-07-06 00:00:00Z, Value: 0 }, { LibMetrics.LibYearPackageResult: Name: carrierwave_direct, Version: 0.0.13, PublishedAt: 2013-07-07 00:00:00Z, Value: 0 }, { LibMetrics.LibYearPackageResult: Name: celluloid, Version: 0.14.1, PublishedAt: 2013-05-31 00:00:00Z, Value: 0 }, { LibMetrics.LibYearPackageResult: Name: clockwork, Version: 0.6.0, PublishedAt: 2013-08-06 00:00:00Z, Value: 0 } ... (88 more) ]</td></tr><tr><td>1</td><td>2013-10-01 00:00:00Z</td><td>[ { LibMetrics.LibYearPackageResult: Name: actionmailer, Version: 3.2.14, PublishedAt: 2013-07-22 00:00:00Z, Value: 0.07397260273972603 }, { LibMetrics.LibYearPackageResult: Name: actionpack, Version: 3.2.14, PublishedAt: 2013-07-22 00:00:00Z, Value: 0.07397260273972603 }, { LibMetrics.LibYearPackageResult: Name: activemodel, Version: 3.2.14, PublishedAt: 2013-07-22 00:00:00Z, Value: 0.07397260273972603 }, { LibMetrics.LibYearPackageResult: Name: activerecord, Version: 3.2.14, PublishedAt: 2013-07-22 00:00:00Z, Value: 0.07397260273972603 }, { LibMetrics.LibYearPackageResult: Name: activerecord-deprecated_finders, Version: 1.0.3, PublishedAt: 2013-06-11 00:00:00Z, Value: 0 }, { LibMetrics.LibYearPackageResult: Name: activesupport, Version: 3.2.14, PublishedAt: 2013-07-22 00:00:00Z, Value: 0.07397260273972603 }, { LibMetrics.LibYearPackageResult: Name: addressable, Version: 2.3.5, PublishedAt: 2013-06-27 00:00:00Z, Value: 0 }, { LibMetrics.LibYearPackageResult: Name: aggregate, Version: 0.2.2, PublishedAt: 2011-03-05 00:00:00Z, Value: 0 }, { LibMetrics.LibYearPackageResult: Name: arel, Version: 4.0.0, PublishedAt: 2013-04-18 00:00:00Z, Value: 0 }, { LibMetrics.LibYearPackageResult: Name: atomic, Version: 1.1.14, PublishedAt: 2013-09-11 00:00:00Z, Value: 0 }, { LibMetrics.LibYearPackageResult: Name: autoprefixer-rails, Version: 0.8.20130923, PublishedAt: 2013-09-23 00:00:00Z, Value: 0.010958904109589041 }, { LibMetrics.LibYearPackageResult: Name: bcrypt-ruby, Version: 3.1.2, PublishedAt: 2013-08-26 00:00:00Z, Value: 1.9561643835616438 }, { LibMetrics.LibYearPackageResult: Name: better_errors, Version: 1.0.1, PublishedAt: 2013-09-08 00:00:00Z, Value: 0 }, { LibMetrics.LibYearPackageResult: Name: builder, Version: 3.2.2, PublishedAt: 2013-06-01 00:00:00Z, Value: 0.6246575342465753 }, { LibMetrics.LibYearPackageResult: Name: bust_rails_etags, Version: 0.0.5, PublishedAt: 2012-10-18 00:00:00Z, Value: 0 }, { LibMetrics.LibYearPackageResult: Name: capistrano, Version: 2.15.5, PublishedAt: 2013-07-04 00:00:00Z, Value: 0 }, { LibMetrics.LibYearPackageResult: Name: carrierwave, Version: 0.9.0, PublishedAt: 2013-07-06 00:00:00Z, Value: 0 }, { LibMetrics.LibYearPackageResult: Name: carrierwave_direct, Version: 0.0.13, PublishedAt: 2013-07-07 00:00:00Z, Value: 0 }, { LibMetrics.LibYearPackageResult: Name: celluloid, Version: 0.15.1, PublishedAt: 2013-09-06 00:00:00Z, Value: 0 }, { LibMetrics.LibYearPackageResult: Name: clockwork, Version: 0.6.1, PublishedAt: 2013-09-30 00:00:00Z, Value: 0.1506849315068493 } ... (88 more) ]</td></tr><tr><td>2</td><td>2013-11-01 00:00:00Z</td><td>[ { LibMetrics.LibYearPackageResult: Name: actionmailer, Version: 3.2.15, PublishedAt: 2013-10-16 00:00:00Z, Value: 0.3095890410958904 }, { LibMetrics.LibYearPackageResult: Name: actionpack, Version: 3.2.15, PublishedAt: 2013-10-16 00:00:00Z, Value: 0.3095890410958904 }, { LibMetrics.LibYearPackageResult: Name: activemodel, Version: 3.2.15, PublishedAt: 2013-10-16 00:00:00Z, Value: 0.3095890410958904 }, { LibMetrics.LibYearPackageResult: Name: activerecord, Version: 3.2.15, PublishedAt: 2013-10-16 00:00:00Z, Value: 0.3095890410958904 }, { LibMetrics.LibYearPackageResult: Name: activerecord-deprecated_finders, Version: 1.0.3, PublishedAt: 2013-06-11 00:00:00Z, Value: 0 }, { LibMetrics.LibYearPackageResult: Name: activerecord-import, Version: 0.4.1, PublishedAt: 2013-07-22 00:00:00Z, Value: 0 }, { LibMetrics.LibYearPackageResult: Name: activesupport, Version: 3.2.15, PublishedAt: 2013-10-16 00:00:00Z, Value: 0.3095890410958904 }, { LibMetrics.LibYearPackageResult: Name: addressable, Version: 2.3.5, PublishedAt: 2013-06-27 00:00:00Z, Value: 0 }, { LibMetrics.LibYearPackageResult: Name: aggregate, Version: 0.2.2, PublishedAt: 2011-03-05 00:00:00Z, Value: 0 }, { LibMetrics.LibYearPackageResult: Name: ansi, Version: 1.4.3, PublishedAt: 2012-06-28 00:00:00Z, Value: 0 }, { LibMetrics.LibYearPackageResult: Name: arel, Version: 4.0.1, PublishedAt: 2013-10-22 00:00:00Z, Value: 0 }, { LibMetrics.LibYearPackageResult: Name: atomic, Version: 1.1.14, PublishedAt: 2013-09-11 00:00:00Z, Value: 0 }, { LibMetrics.LibYearPackageResult: Name: autoprefixer-rails, Version: 0.8.20131029, PublishedAt: 2013-10-29 00:00:00Z, Value: 0 }, { LibMetrics.LibYearPackageResult: Name: bcrypt-ruby, Version: 3.1.2, PublishedAt: 2013-08-26 00:00:00Z, Value: 1.9561643835616438 }, { LibMetrics.LibYearPackageResult: Name: better_errors, Version: 1.0.1, PublishedAt: 2013-09-08 00:00:00Z, Value: 0 }, { LibMetrics.LibYearPackageResult: Name: builder, Version: 3.2.2, PublishedAt: 2013-06-01 00:00:00Z, Value: 0.6246575342465753 }, { LibMetrics.LibYearPackageResult: Name: bust_rails_etags, Version: 0.0.5, PublishedAt: 2012-10-18 00:00:00Z, Value: 0 }, { LibMetrics.LibYearPackageResult: Name: capistrano, Version: 3.0.0, PublishedAt: 2013-10-08 00:00:00Z, Value: 0.26301369863013696 }, { LibMetrics.LibYearPackageResult: Name: carrierwave, Version: 0.9.0, PublishedAt: 2013-07-06 00:00:00Z, Value: 0 }, { LibMetrics.LibYearPackageResult: Name: carrierwave_direct, Version: 0.0.13, PublishedAt: 2013-07-07 00:00:00Z, Value: 0 } ... (94 more) ]</td></tr><tr><td>3</td><td>2013-12-01 00:00:00Z</td><td>[ { LibMetrics.LibYearPackageResult: Name: actionmailer, Version: 4.0.1, PublishedAt: 2013-11-01 00:00:00Z, Value: 0.35342465753424657 }, { LibMetrics.LibYearPackageResult: Name: actionpack, Version: 4.0.1, PublishedAt: 2013-11-01 00:00:00Z, Value: 0.35342465753424657 }, { LibMetrics.LibYearPackageResult: Name: activemodel, Version: 4.0.1, PublishedAt: 2013-11-01 00:00:00Z, Value: 0.35342465753424657 }, { LibMetrics.LibYearPackageResult: Name: activerecord, Version: 4.0.1, PublishedAt: 2013-11-01 00:00:00Z, Value: 0.35342465753424657 }, { LibMetrics.LibYearPackageResult: Name: activerecord-deprecated_finders, Version: 1.0.3, PublishedAt: 2013-06-11 00:00:00Z, Value: 0 }, { LibMetrics.LibYearPackageResult: Name: activesupport, Version: 4.0.1, PublishedAt: 2013-11-01 00:00:00Z, Value: 0.35342465753424657 }, { LibMetrics.LibYearPackageResult: Name: addressable, Version: 2.3.5, PublishedAt: 2013-06-27 00:00:00Z, Value: 0 }, { LibMetrics.LibYearPackageResult: Name: aggregate, Version: 0.2.2, PublishedAt: 2011-03-05 00:00:00Z, Value: 0 }, { LibMetrics.LibYearPackageResult: Name: arel, Version: 3.0.3, PublishedAt: 2013-11-15 00:00:00Z, Value: 0.5780821917808219 }, { LibMetrics.LibYearPackageResult: Name: atomic, Version: 1.1.14, PublishedAt: 2013-09-11 00:00:00Z, Value: 0 }, { LibMetrics.LibYearPackageResult: Name: autoprefixer-rails, Version: 0.8.20131104, PublishedAt: 2013-11-05 00:00:00Z, Value: 0.12876712328767123 }, { LibMetrics.LibYearPackageResult: Name: bcrypt-ruby, Version: 3.1.2, PublishedAt: 2013-08-26 00:00:00Z, Value: 1.9561643835616438 }, { LibMetrics.LibYearPackageResult: Name: better_errors, Version: 1.0.1, PublishedAt: 2013-09-08 00:00:00Z, Value: 0 }, { LibMetrics.LibYearPackageResult: Name: builder, Version: 3.2.2, PublishedAt: 2013-06-01 00:00:00Z, Value: 0.6246575342465753 }, { LibMetrics.LibYearPackageResult: Name: bust_rails_etags, Version: 0.0.5, PublishedAt: 2012-10-18 00:00:00Z, Value: 0 }, { LibMetrics.LibYearPackageResult: Name: capistrano, Version: 3.0.1, PublishedAt: 2013-11-02 00:00:00Z, Value: 0.3315068493150685 }, { LibMetrics.LibYearPackageResult: Name: carrierwave, Version: 0.9.0, PublishedAt: 2013-07-06 00:00:00Z, Value: 0 }, { LibMetrics.LibYearPackageResult: Name: carrierwave_direct, Version: 0.0.13, PublishedAt: 2013-07-07 00:00:00Z, Value: 0 }, { LibMetrics.LibYearPackageResult: Name: celluloid, Version: 0.15.2, PublishedAt: 2013-10-06 00:00:00Z, Value: 0.0821917808219178 }, { LibMetrics.LibYearPackageResult: Name: clockwork, Version: 0.7.0, PublishedAt: 2013-10-31 00:00:00Z, Value: 0.2356164383561644 } ... (88 more) ]</td></tr><tr><td>4</td><td>2014-01-01 00:00:00Z</td><td>[ { LibMetrics.LibYearPackageResult: Name: actionmailer, Version: 4.0.2, PublishedAt: 2013-12-03 00:00:00Z, Value: 0 }, { LibMetrics.LibYearPackageResult: Name: actionpack, Version: 4.0.2, PublishedAt: 2013-12-03 00:00:00Z, Value: 0 }, { LibMetrics.LibYearPackageResult: Name: activemodel, Version: 4.0.2, PublishedAt: 2013-12-03 00:00:00Z, Value: 0 }, { LibMetrics.LibYearPackageResult: Name: activerecord, Version: 4.0.2, PublishedAt: 2013-12-03 00:00:00Z, Value: 0 }, { LibMetrics.LibYearPackageResult: Name: activerecord-deprecated_finders, Version: 1.0.3, PublishedAt: 2013-06-11 00:00:00Z, Value: 0 }, { LibMetrics.LibYearPackageResult: Name: activerecord-import, Version: 0.4.1, PublishedAt: 2013-07-22 00:00:00Z, Value: 0 }, { LibMetrics.LibYearPackageResult: Name: activesupport, Version: 4.0.2, PublishedAt: 2013-12-03 00:00:00Z, Value: 0 }, { LibMetrics.LibYearPackageResult: Name: addressable, Version: 2.3.5, PublishedAt: 2013-06-27 00:00:00Z, Value: 0 }, { LibMetrics.LibYearPackageResult: Name: aggregate, Version: 0.2.2, PublishedAt: 2011-03-05 00:00:00Z, Value: 0 }, { LibMetrics.LibYearPackageResult: Name: ansi, Version: 1.4.3, PublishedAt: 2012-06-28 00:00:00Z, Value: 0 }, { LibMetrics.LibYearPackageResult: Name: arel, Version: 5.0.0, PublishedAt: 2013-12-05 00:00:00Z, Value: 0.12054794520547946 }, { LibMetrics.LibYearPackageResult: Name: atomic, Version: 1.1.14, PublishedAt: 2013-09-11 00:00:00Z, Value: 0 }, { LibMetrics.LibYearPackageResult: Name: autoprefixer-rails, Version: 1.0.20131225, PublishedAt: 2013-12-25 00:00:00Z, Value: 0.03287671232876712 }, { LibMetrics.LibYearPackageResult: Name: bcrypt-ruby, Version: 3.1.2, PublishedAt: 2013-08-26 00:00:00Z, Value: 0 }, { LibMetrics.LibYearPackageResult: Name: better_errors, Version: 1.1.0, PublishedAt: 2013-12-23 00:00:00Z, Value: 0.29041095890410956 }, { LibMetrics.LibYearPackageResult: Name: builder, Version: 3.2.2, PublishedAt: 2013-06-01 00:00:00Z, Value: 0.6246575342465753 }, { LibMetrics.LibYearPackageResult: Name: bust_rails_etags, Version: 0.0.5, PublishedAt: 2012-10-18 00:00:00Z, Value: 0 }, { LibMetrics.LibYearPackageResult: Name: capistrano, Version: 3.0.1, PublishedAt: 2013-11-02 00:00:00Z, Value: 0.3315068493150685 }, { LibMetrics.LibYearPackageResult: Name: carrierwave, Version: 0.9.0, PublishedAt: 2013-07-06 00:00:00Z, Value: 0 }, { LibMetrics.LibYearPackageResult: Name: carrierwave_direct, Version: 0.0.13, PublishedAt: 2013-07-07 00:00:00Z, Value: 0 } ... (92 more) ]</td></tr><tr><td>5</td><td>2014-02-01 00:00:00Z</td><td>[ { LibMetrics.LibYearPackageResult: Name: actionmailer, Version: 4.0.2, PublishedAt: 2013-12-03 00:00:00Z, Value: 0 }, { LibMetrics.LibYearPackageResult: Name: actionpack, Version: 4.0.2, PublishedAt: 2013-12-03 00:00:00Z, Value: 0 }, { LibMetrics.LibYearPackageResult: Name: activemodel, Version: 4.0.2, PublishedAt: 2013-12-03 00:00:00Z, Value: 0 }, { LibMetrics.LibYearPackageResult: Name: activerecord, Version: 4.0.2, PublishedAt: 2013-12-03 00:00:00Z, Value: 0 }, { LibMetrics.LibYearPackageResult: Name: activerecord-deprecated_finders, Version: 1.0.3, PublishedAt: 2013-06-11 00:00:00Z, Value: 0 }, { LibMetrics.LibYearPackageResult: Name: activerecord-import, Version: 0.4.1, PublishedAt: 2013-07-22 00:00:00Z, Value: 0 }, { LibMetrics.LibYearPackageResult: Name: activesupport, Version: 4.0.2, PublishedAt: 2013-12-03 00:00:00Z, Value: 0 }, { LibMetrics.LibYearPackageResult: Name: addressable, Version: 2.3.5, PublishedAt: 2013-06-27 00:00:00Z, Value: 0 }, { LibMetrics.LibYearPackageResult: Name: aggregate, Version: 0.2.2, PublishedAt: 2011-03-05 00:00:00Z, Value: 0 }, { LibMetrics.LibYearPackageResult: Name: ansi, Version: 1.4.3, PublishedAt: 2012-06-28 00:00:00Z, Value: 0 }, { LibMetrics.LibYearPackageResult: Name: arel, Version: 5.0.0, PublishedAt: 2013-12-05 00:00:00Z, Value: 0.12054794520547946 }, { LibMetrics.LibYearPackageResult: Name: atomic, Version: 1.1.14, PublishedAt: 2013-09-11 00:00:00Z, Value: 0 }, { LibMetrics.LibYearPackageResult: Name: autoprefixer-rails, Version: 1.0.20140130, PublishedAt: 2014-01-30 00:00:00Z, Value: 0.07397260273972603 }, { LibMetrics.LibYearPackageResult: Name: bcrypt-ruby, Version: 3.1.2, PublishedAt: 2013-08-26 00:00:00Z, Value: 0 }, { LibMetrics.LibYearPackageResult: Name: better_errors, Version: 1.1.0, PublishedAt: 2013-12-23 00:00:00Z, Value: 0 }, { LibMetrics.LibYearPackageResult: Name: builder, Version: 3.2.2, PublishedAt: 2013-06-01 00:00:00Z, Value: 0.6246575342465753 }, { LibMetrics.LibYearPackageResult: Name: bust_rails_etags, Version: 0.0.5, PublishedAt: 2012-10-18 00:00:00Z, Value: 0 }, { LibMetrics.LibYearPackageResult: Name: capistrano, Version: 3.1.0, PublishedAt: 2014-01-14 00:00:00Z, Value: 0.5315068493150685 }, { LibMetrics.LibYearPackageResult: Name: carrierwave, Version: 0.9.0, PublishedAt: 2013-07-06 00:00:00Z, Value: 0 }, { LibMetrics.LibYearPackageResult: Name: carrierwave_direct, Version: 0.0.13, PublishedAt: 2013-07-07 00:00:00Z, Value: 0 } ... (93 more) ]</td></tr><tr><td>6</td><td>2014-03-01 00:00:00Z</td><td>[ { LibMetrics.LibYearPackageResult: Name: actionmailer, Version: 3.2.17, PublishedAt: 2014-02-18 00:00:00Z, Value: 0 }, { LibMetrics.LibYearPackageResult: Name: actionpack, Version: 3.2.17, PublishedAt: 2014-02-18 00:00:00Z, Value: 0 }, { LibMetrics.LibYearPackageResult: Name: activemodel, Version: 3.2.17, PublishedAt: 2014-02-18 00:00:00Z, Value: 0 }, { LibMetrics.LibYearPackageResult: Name: activerecord, Version: 3.2.17, PublishedAt: 2014-02-18 00:00:00Z, Value: 0 }, { LibMetrics.LibYearPackageResult: Name: activerecord-deprecated_finders, Version: 1.0.3, PublishedAt: 2013-06-11 00:00:00Z, Value: 0 }, { LibMetrics.LibYearPackageResult: Name: activerecord-import, Version: 0.4.1, PublishedAt: 2013-07-22 00:00:00Z, Value: 0 }, { LibMetrics.LibYearPackageResult: Name: activesupport, Version: 3.2.17, PublishedAt: 2014-02-18 00:00:00Z, Value: 0 }, { LibMetrics.LibYearPackageResult: Name: addressable, Version: 2.3.5, PublishedAt: 2013-06-27 00:00:00Z, Value: 0 }, { LibMetrics.LibYearPackageResult: Name: aggregate, Version: 0.2.2, PublishedAt: 2011-03-05 00:00:00Z, Value: 0 }, { LibMetrics.LibYearPackageResult: Name: ansi, Version: 1.4.3, PublishedAt: 2012-06-28 00:00:00Z, Value: 0 }, { LibMetrics.LibYearPackageResult: Name: arel, Version: 4.0.2, PublishedAt: 2014-02-05 00:00:00Z, Value: 0 }, { LibMetrics.LibYearPackageResult: Name: atomic, Version: 1.1.15, PublishedAt: 2014-02-26 00:00:00Z, Value: 0.4602739726027397 }, { LibMetrics.LibYearPackageResult: Name: autoprefixer-rails, Version: 1.1.20140226, PublishedAt: 2014-02-26 00:00:00Z, Value: 0.14794520547945206 }, { LibMetrics.LibYearPackageResult: Name: bcrypt-ruby, Version: 3.1.5, PublishedAt: 2014-02-21 00:00:00Z, Value: 0.4904109589041096 }, { LibMetrics.LibYearPackageResult: Name: better_errors, Version: 1.1.0, PublishedAt: 2013-12-23 00:00:00Z, Value: 0 }, { LibMetrics.LibYearPackageResult: Name: builder, Version: 3.2.2, PublishedAt: 2013-06-01 00:00:00Z, Value: 0.6246575342465753 }, { LibMetrics.LibYearPackageResult: Name: bust_rails_etags, Version: 0.0.5, PublishedAt: 2012-10-18 00:00:00Z, Value: 0 }, { LibMetrics.LibYearPackageResult: Name: capistrano, Version: 3.1.0, PublishedAt: 2014-01-14 00:00:00Z, Value: 0.5315068493150685 }, { LibMetrics.LibYearPackageResult: Name: carrierwave, Version: 0.10.0, PublishedAt: 2014-02-26 00:00:00Z, Value: 0.6438356164383562 }, { LibMetrics.LibYearPackageResult: Name: carrierwave_direct, Version: 0.0.13, PublishedAt: 2013-07-07 00:00:00Z, Value: 0 } ... (93 more) ]</td></tr><tr><td>7</td><td>2014-04-01 00:00:00Z</td><td>[ { LibMetrics.LibYearPackageResult: Name: actionmailer, Version: 4.0.4, PublishedAt: 2014-03-14 00:00:00Z, Value: 0 }, { LibMetrics.LibYearPackageResult: Name: actionpack, Version: 4.0.4, PublishedAt: 2014-03-14 00:00:00Z, Value: 0 }, { LibMetrics.LibYearPackageResult: Name: activemodel, Version: 4.0.4, PublishedAt: 2014-03-14 00:00:00Z, Value: 0 }, { LibMetrics.LibYearPackageResult: Name: activerecord, Version: 4.0.4, PublishedAt: 2014-03-14 00:00:00Z, Value: 0 }, { LibMetrics.LibYearPackageResult: Name: activerecord-deprecated_finders, Version: 1.0.3, PublishedAt: 2013-06-11 00:00:00Z, Value: 0 }, { LibMetrics.LibYearPackageResult: Name: activerecord-import, Version: 0.5.0, PublishedAt: 2014-03-13 00:00:00Z, Value: 0 }, { LibMetrics.LibYearPackageResult: Name: activesupport, Version: 4.0.4, PublishedAt: 2014-03-14 00:00:00Z, Value: 0 }, { LibMetrics.LibYearPackageResult: Name: addressable, Version: 2.3.6, PublishedAt: 2014-03-24 00:00:00Z, Value: 0.7397260273972602 }, { LibMetrics.LibYearPackageResult: Name: aggregate, Version: 0.2.2, PublishedAt: 2011-03-05 00:00:00Z, Value: 0 }, { LibMetrics.LibYearPackageResult: Name: ansi, Version: 1.4.3, PublishedAt: 2012-06-28 00:00:00Z, Value: 0 }, { LibMetrics.LibYearPackageResult: Name: arel, Version: 4.0.2, PublishedAt: 2014-02-05 00:00:00Z, Value: 0 }, { LibMetrics.LibYearPackageResult: Name: atomic, Version: 1.1.16, PublishedAt: 2014-03-17 00:00:00Z, Value: 0 }, { LibMetrics.LibYearPackageResult: Name: autoprefixer-rails, Version: 1.1.20140327, PublishedAt: 2014-03-27 00:00:00Z, Value: 0.021917808219178082 }, { LibMetrics.LibYearPackageResult: Name: bcrypt, Version: 3.1.7, PublishedAt: 2014-02-25 00:00:00Z, Value: 0 }, { LibMetrics.LibYearPackageResult: Name: bcrypt-ruby, Version: 3.1.5, PublishedAt: 2014-02-21 00:00:00Z, Value: 0 }, { LibMetrics.LibYearPackageResult: Name: better_errors, Version: 1.1.0, PublishedAt: 2013-12-23 00:00:00Z, Value: 0 }, { LibMetrics.LibYearPackageResult: Name: builder, Version: 3.2.2, PublishedAt: 2013-06-01 00:00:00Z, Value: 0.6246575342465753 }, { LibMetrics.LibYearPackageResult: Name: bust_rails_etags, Version: 0.0.5, PublishedAt: 2012-10-18 00:00:00Z, Value: 0 }, { LibMetrics.LibYearPackageResult: Name: capistrano, Version: 3.1.0, PublishedAt: 2014-01-14 00:00:00Z, Value: 0.5315068493150685 }, { LibMetrics.LibYearPackageResult: Name: carrierwave, Version: 0.10.0, PublishedAt: 2014-02-26 00:00:00Z, Value: 0 } ... (96 more) ]</td></tr><tr><td>8</td><td>2014-05-01 00:00:00Z</td><td>[ { LibMetrics.LibYearPackageResult: Name: actionmailer, Version: 4.1.0, PublishedAt: 2014-04-08 00:00:00Z, Value: 0.0684931506849315 }, { LibMetrics.LibYearPackageResult: Name: actionpack, Version: 4.1.0, PublishedAt: 2014-04-08 00:00:00Z, Value: 0.0684931506849315 }, { LibMetrics.LibYearPackageResult: Name: activemodel, Version: 4.1.0, PublishedAt: 2014-04-08 00:00:00Z, Value: 0.0684931506849315 }, { LibMetrics.LibYearPackageResult: Name: activerecord, Version: 4.1.0, PublishedAt: 2014-04-08 00:00:00Z, Value: 0.0684931506849315 }, { LibMetrics.LibYearPackageResult: Name: activerecord-deprecated_finders, Version: 1.0.3, PublishedAt: 2013-06-11 00:00:00Z, Value: 0 }, { LibMetrics.LibYearPackageResult: Name: activerecord-import, Version: 0.5.0, PublishedAt: 2014-03-13 00:00:00Z, Value: 0 }, { LibMetrics.LibYearPackageResult: Name: activesupport, Version: 4.1.0, PublishedAt: 2014-04-08 00:00:00Z, Value: 0.0684931506849315 }, { LibMetrics.LibYearPackageResult: Name: addressable, Version: 2.3.6, PublishedAt: 2014-03-24 00:00:00Z, Value: 0.7397260273972602 }, { LibMetrics.LibYearPackageResult: Name: aggregate, Version: 0.2.2, PublishedAt: 2011-03-05 00:00:00Z, Value: 0 }, { LibMetrics.LibYearPackageResult: Name: ansi, Version: 1.4.3, PublishedAt: 2012-06-28 00:00:00Z, Value: 0 }, { LibMetrics.LibYearPackageResult: Name: arel, Version: 5.0.1.20140414130214, PublishedAt: 2014-04-14 00:00:00Z, Value: 0.1863013698630137 }, { LibMetrics.LibYearPackageResult: Name: atomic, Version: 1.1.16, PublishedAt: 2014-03-17 00:00:00Z, Value: 0 }, { LibMetrics.LibYearPackageResult: Name: autoprefixer-rails, Version: 1.1.20140430, PublishedAt: 2014-04-30 00:00:00Z, Value: 0.11506849315068493 }, { LibMetrics.LibYearPackageResult: Name: bcrypt, Version: 3.1.7, PublishedAt: 2014-02-25 00:00:00Z, Value: 0 }, { LibMetrics.LibYearPackageResult: Name: bcrypt-ruby, Version: 3.1.5, PublishedAt: 2014-02-21 00:00:00Z, Value: 0 }, { LibMetrics.LibYearPackageResult: Name: better_errors, Version: 1.1.0, PublishedAt: 2013-12-23 00:00:00Z, Value: 0 }, { LibMetrics.LibYearPackageResult: Name: builder, Version: 3.2.2, PublishedAt: 2013-06-01 00:00:00Z, Value: 0.6246575342465753 }, { LibMetrics.LibYearPackageResult: Name: bust_rails_etags, Version: 0.0.5, PublishedAt: 2012-10-18 00:00:00Z, Value: 0 }, { LibMetrics.LibYearPackageResult: Name: capistrano, Version: 3.2.1, PublishedAt: 2014-04-22 00:00:00Z, Value: 0.8 }, { LibMetrics.LibYearPackageResult: Name: carrierwave, Version: 0.10.0, PublishedAt: 2014-02-26 00:00:00Z, Value: 0 } ... (98 more) ]</td></tr><tr><td>9</td><td>2014-06-01 00:00:00Z</td><td>[ { LibMetrics.LibYearPackageResult: Name: actionmailer, Version: 3.2.18, PublishedAt: 2014-05-06 00:00:00Z, Value: 0 }, { LibMetrics.LibYearPackageResult: Name: actionpack, Version: 3.2.18, PublishedAt: 2014-05-06 00:00:00Z, Value: 0 }, { LibMetrics.LibYearPackageResult: Name: actionview, Version: 4.1.1, PublishedAt: 2014-05-06 00:00:00Z, Value: 0 }, { LibMetrics.LibYearPackageResult: Name: activemodel, Version: 3.2.18, PublishedAt: 2014-05-06 00:00:00Z, Value: 0 }, { LibMetrics.LibYearPackageResult: Name: activerecord, Version: 3.2.18, PublishedAt: 2014-05-06 00:00:00Z, Value: 0 }, { LibMetrics.LibYearPackageResult: Name: activerecord-import, Version: 0.5.0, PublishedAt: 2014-03-13 00:00:00Z, Value: 0 }, { LibMetrics.LibYearPackageResult: Name: activesupport, Version: 3.2.18, PublishedAt: 2014-05-06 00:00:00Z, Value: 0 }, { LibMetrics.LibYearPackageResult: Name: addressable, Version: 2.3.6, PublishedAt: 2014-03-24 00:00:00Z, Value: 0 }, { LibMetrics.LibYearPackageResult: Name: aggregate, Version: 0.2.2, PublishedAt: 2011-03-05 00:00:00Z, Value: 0 }, { LibMetrics.LibYearPackageResult: Name: ansi, Version: 1.4.3, PublishedAt: 2012-06-28 00:00:00Z, Value: 0 }, { LibMetrics.LibYearPackageResult: Name: arel, Version: 5.0.1.20140414130214, PublishedAt: 2014-04-14 00:00:00Z, Value: 0 }, { LibMetrics.LibYearPackageResult: Name: autoprefixer-rails, Version: 1.1.20140523, PublishedAt: 2014-05-23 00:00:00Z, Value: 0.005479452054794521 }, { LibMetrics.LibYearPackageResult: Name: bcrypt, Version: 3.1.7, PublishedAt: 2014-02-25 00:00:00Z, Value: 0 }, { LibMetrics.LibYearPackageResult: Name: bcrypt-ruby, Version: 3.1.5, PublishedAt: 2014-02-21 00:00:00Z, Value: 0 }, { LibMetrics.LibYearPackageResult: Name: better_errors, Version: 1.1.0, PublishedAt: 2013-12-23 00:00:00Z, Value: 0 }, { LibMetrics.LibYearPackageResult: Name: builder, Version: 3.2.2, PublishedAt: 2013-06-01 00:00:00Z, Value: 0 }, { LibMetrics.LibYearPackageResult: Name: bust_rails_etags, Version: 0.0.5, PublishedAt: 2012-10-18 00:00:00Z, Value: 0 }, { LibMetrics.LibYearPackageResult: Name: capistrano, Version: 3.2.1, PublishedAt: 2014-04-22 00:00:00Z, Value: 0.8 }, { LibMetrics.LibYearPackageResult: Name: carrierwave, Version: 0.10.0, PublishedAt: 2014-02-26 00:00:00Z, Value: 0 }, { LibMetrics.LibYearPackageResult: Name: carrierwave_direct, Version: 0.0.14, PublishedAt: 2014-04-24 00:00:00Z, Value: 0 } ... (100 more) ]</td></tr><tr><td>10</td><td>2014-07-01 00:00:00Z</td><td>[ { LibMetrics.LibYearPackageResult: Name: actionmailer, Version: 4.0.6, PublishedAt: 2014-06-26 00:00:00Z, Value: 0.13972602739726028 }, { LibMetrics.LibYearPackageResult: Name: actionpack, Version: 4.0.6, PublishedAt: 2014-06-26 00:00:00Z, Value: 0.13972602739726028 }, { LibMetrics.LibYearPackageResult: Name: activemodel, Version: 4.0.6, PublishedAt: 2014-06-26 00:00:00Z, Value: 0.13972602739726028 }, { LibMetrics.LibYearPackageResult: Name: activerecord, Version: 4.0.6, PublishedAt: 2014-06-26 00:00:00Z, Value: 0.13972602739726028 }, { LibMetrics.LibYearPackageResult: Name: activerecord-deprecated_finders, Version: 1.0.3, PublishedAt: 2013-06-11 00:00:00Z, Value: 0 }, { LibMetrics.LibYearPackageResult: Name: activerecord-import, Version: 0.5.0, PublishedAt: 2014-03-13 00:00:00Z, Value: 0 }, { LibMetrics.LibYearPackageResult: Name: activesupport, Version: 4.0.6, PublishedAt: 2014-06-26 00:00:00Z, Value: 0.13972602739726028 }, { LibMetrics.LibYearPackageResult: Name: addressable, Version: 2.3.6, PublishedAt: 2014-03-24 00:00:00Z, Value: 0.7397260273972602 }, { LibMetrics.LibYearPackageResult: Name: aggregate, Version: 0.2.2, PublishedAt: 2011-03-05 00:00:00Z, Value: 0 }, { LibMetrics.LibYearPackageResult: Name: ansi, Version: 1.4.3, PublishedAt: 2012-06-28 00:00:00Z, Value: 0 }, { LibMetrics.LibYearPackageResult: Name: arel, Version: 5.0.1.20140414130214, PublishedAt: 2014-04-14 00:00:00Z, Value: 0.1863013698630137 }, { LibMetrics.LibYearPackageResult: Name: autoprefixer-rails, Version: 2.1.0.20140628, PublishedAt: 2014-06-30 00:00:00Z, Value: 0.2821917808219178 }, { LibMetrics.LibYearPackageResult: Name: bcrypt, Version: 3.1.7, PublishedAt: 2014-02-25 00:00:00Z, Value: 0 }, { LibMetrics.LibYearPackageResult: Name: bcrypt-ruby, Version: 3.1.5, PublishedAt: 2014-02-21 00:00:00Z, Value: 0 }, { LibMetrics.LibYearPackageResult: Name: better_errors, Version: 1.1.0, PublishedAt: 2013-12-23 00:00:00Z, Value: 0 }, { LibMetrics.LibYearPackageResult: Name: builder, Version: 3.2.2, PublishedAt: 2013-06-01 00:00:00Z, Value: 0.6246575342465753 }, { LibMetrics.LibYearPackageResult: Name: bust_rails_etags, Version: 0.0.5, PublishedAt: 2012-10-18 00:00:00Z, Value: 0 }, { LibMetrics.LibYearPackageResult: Name: capistrano, Version: 3.2.1, PublishedAt: 2014-04-22 00:00:00Z, Value: 0.8 }, { LibMetrics.LibYearPackageResult: Name: carrierwave, Version: 0.10.0, PublishedAt: 2014-02-26 00:00:00Z, Value: 0 }, { LibMetrics.LibYearPackageResult: Name: carrierwave_direct, Version: 0.0.14, PublishedAt: 2014-04-24 00:00:00Z, Value: 0.7972602739726027 } ... (100 more) ]</td></tr><tr><td>11</td><td>2014-08-01 00:00:00Z</td><td>[ { LibMetrics.LibYearPackageResult: Name: actionmailer, Version: 4.1.4, PublishedAt: 2014-07-02 00:00:00Z, Value: 0 }, { LibMetrics.LibYearPackageResult: Name: actionpack, Version: 4.1.4, PublishedAt: 2014-07-02 00:00:00Z, Value: 0 }, { LibMetrics.LibYearPackageResult: Name: actionview, Version: 4.1.4, PublishedAt: 2014-07-02 00:00:00Z, Value: 0 }, { LibMetrics.LibYearPackageResult: Name: activemodel, Version: 4.1.4, PublishedAt: 2014-07-02 00:00:00Z, Value: 0 }, { LibMetrics.LibYearPackageResult: Name: activerecord, Version: 4.1.4, PublishedAt: 2014-07-02 00:00:00Z, Value: 0 }, { LibMetrics.LibYearPackageResult: Name: activerecord-import, Version: 0.5.0, PublishedAt: 2014-03-13 00:00:00Z, Value: 0 }, { LibMetrics.LibYearPackageResult: Name: activesupport, Version: 4.1.4, PublishedAt: 2014-07-02 00:00:00Z, Value: 0 }, { LibMetrics.LibYearPackageResult: Name: addressable, Version: 2.3.6, PublishedAt: 2014-03-24 00:00:00Z, Value: 0 }, { LibMetrics.LibYearPackageResult: Name: aggregate, Version: 0.2.2, PublishedAt: 2011-03-05 00:00:00Z, Value: 0 }, { LibMetrics.LibYearPackageResult: Name: ansi, Version: 1.4.3, PublishedAt: 2012-06-28 00:00:00Z, Value: 0 }, { LibMetrics.LibYearPackageResult: Name: arel, Version: 5.0.1.20140414130214, PublishedAt: 2014-04-14 00:00:00Z, Value: 0 }, { LibMetrics.LibYearPackageResult: Name: autoprefixer-rails, Version: 2.2.0.20140727, PublishedAt: 2014-07-29 00:00:00Z, Value: 0.07945205479452055 }, { LibMetrics.LibYearPackageResult: Name: bcrypt, Version: 3.1.7, PublishedAt: 2014-02-25 00:00:00Z, Value: 0 }, { LibMetrics.LibYearPackageResult: Name: bcrypt-ruby, Version: 3.1.5, PublishedAt: 2014-02-21 00:00:00Z, Value: 0 }, { LibMetrics.LibYearPackageResult: Name: better_errors, Version: 1.1.0, PublishedAt: 2013-12-23 00:00:00Z, Value: 0 }, { LibMetrics.LibYearPackageResult: Name: builder, Version: 3.2.2, PublishedAt: 2013-06-01 00:00:00Z, Value: 0 }, { LibMetrics.LibYearPackageResult: Name: bust_rails_etags, Version: 0.0.5, PublishedAt: 2012-10-18 00:00:00Z, Value: 0 }, { LibMetrics.LibYearPackageResult: Name: capistrano, Version: 3.2.1, PublishedAt: 2014-04-22 00:00:00Z, Value: 0.8 }, { LibMetrics.LibYearPackageResult: Name: carrierwave, Version: 0.10.0, PublishedAt: 2014-02-26 00:00:00Z, Value: 0 }, { LibMetrics.LibYearPackageResult: Name: carrierwave_direct, Version: 0.0.14, PublishedAt: 2014-04-24 00:00:00Z, Value: 0 } ... (114 more) ]</td></tr><tr><td>12</td><td>2014-09-01 00:00:00Z</td><td>[ { LibMetrics.LibYearPackageResult: Name: actionmailer, Version: 4.0.9, PublishedAt: 2014-08-18 00:00:00Z, Value: 0.12876712328767123 }, { LibMetrics.LibYearPackageResult: Name: actionpack, Version: 4.0.9, PublishedAt: 2014-08-18 00:00:00Z, Value: 0.12876712328767123 }, { LibMetrics.LibYearPackageResult: Name: actionview, Version: 4.1.5, PublishedAt: 2014-08-18 00:00:00Z, Value: 0.12876712328767123 }, { LibMetrics.LibYearPackageResult: Name: activemodel, Version: 4.0.9, PublishedAt: 2014-08-18 00:00:00Z, Value: 0.12876712328767123 }, { LibMetrics.LibYearPackageResult: Name: activerecord, Version: 4.0.9, PublishedAt: 2014-08-18 00:00:00Z, Value: 0.12876712328767123 }, { LibMetrics.LibYearPackageResult: Name: activerecord-import, Version: 0.5.0, PublishedAt: 2014-03-13 00:00:00Z, Value: 0 }, { LibMetrics.LibYearPackageResult: Name: activesupport, Version: 4.0.9, PublishedAt: 2014-08-18 00:00:00Z, Value: 0.12876712328767123 }, { LibMetrics.LibYearPackageResult: Name: addressable, Version: 2.3.6, PublishedAt: 2014-03-24 00:00:00Z, Value: 0 }, { LibMetrics.LibYearPackageResult: Name: aggregate, Version: 0.2.2, PublishedAt: 2011-03-05 00:00:00Z, Value: 0 }, { LibMetrics.LibYearPackageResult: Name: ansi, Version: 1.4.3, PublishedAt: 2012-06-28 00:00:00Z, Value: 0 }, { LibMetrics.LibYearPackageResult: Name: arel, Version: 5.0.1.20140414130214, PublishedAt: 2014-04-14 00:00:00Z, Value: 0 }, { LibMetrics.LibYearPackageResult: Name: autoprefixer-rails, Version: 3.0.1.20140826, PublishedAt: 2014-08-27 00:00:00Z, Value: 0.1589041095890411 }, { LibMetrics.LibYearPackageResult: Name: bcrypt, Version: 3.1.7, PublishedAt: 2014-02-25 00:00:00Z, Value: 0 }, { LibMetrics.LibYearPackageResult: Name: bcrypt-ruby, Version: 3.1.5, PublishedAt: 2014-02-21 00:00:00Z, Value: 0 }, { LibMetrics.LibYearPackageResult: Name: better_errors, Version: 2.0.0, PublishedAt: 2014-08-20 00:00:00Z, Value: 0.6575342465753424 }, { LibMetrics.LibYearPackageResult: Name: builder, Version: 3.2.2, PublishedAt: 2013-06-01 00:00:00Z, Value: 0 }, { LibMetrics.LibYearPackageResult: Name: bust_rails_etags, Version: 0.0.5, PublishedAt: 2012-10-18 00:00:00Z, Value: 0 }, { LibMetrics.LibYearPackageResult: Name: capistrano, Version: 3.2.1, PublishedAt: 2014-04-22 00:00:00Z, Value: 0.8 }, { LibMetrics.LibYearPackageResult: Name: carrierwave, Version: 0.10.0, PublishedAt: 2014-02-26 00:00:00Z, Value: 0 }, { LibMetrics.LibYearPackageResult: Name: carrierwave_direct, Version: 0.0.14, PublishedAt: 2014-04-24 00:00:00Z, Value: 0 } ... (115 more) ]</td></tr><tr><td>13</td><td>2014-10-01 00:00:00Z</td><td>[ { LibMetrics.LibYearPackageResult: Name: actionmailer, Version: 4.0.10, PublishedAt: 2014-09-11 00:00:00Z, Value: 0.06575342465753424 }, { LibMetrics.LibYearPackageResult: Name: actionpack, Version: 4.0.10, PublishedAt: 2014-09-11 00:00:00Z, Value: 0.06575342465753424 }, { LibMetrics.LibYearPackageResult: Name: actionview, Version: 4.1.6, PublishedAt: 2014-09-11 00:00:00Z, Value: 0.06575342465753424 }, { LibMetrics.LibYearPackageResult: Name: activemodel, Version: 4.0.10, PublishedAt: 2014-09-11 00:00:00Z, Value: 0.06575342465753424 }, { LibMetrics.LibYearPackageResult: Name: activerecord, Version: 4.0.10, PublishedAt: 2014-09-11 00:00:00Z, Value: 0.06575342465753424 }, { LibMetrics.LibYearPackageResult: Name: activerecord-import, Version: 0.5.0, PublishedAt: 2014-03-13 00:00:00Z, Value: 0 }, { LibMetrics.LibYearPackageResult: Name: activesupport, Version: 4.0.10, PublishedAt: 2014-09-11 00:00:00Z, Value: 0.06575342465753424 }, { LibMetrics.LibYearPackageResult: Name: addressable, Version: 2.3.6, PublishedAt: 2014-03-24 00:00:00Z, Value: 0 }, { LibMetrics.LibYearPackageResult: Name: aggregate, Version: 0.2.2, PublishedAt: 2011-03-05 00:00:00Z, Value: 0 }, { LibMetrics.LibYearPackageResult: Name: ansi, Version: 1.4.3, PublishedAt: 2012-06-28 00:00:00Z, Value: 0 }, { LibMetrics.LibYearPackageResult: Name: arel, Version: 5.0.1.20140414130214, PublishedAt: 2014-04-14 00:00:00Z, Value: 0 }, { LibMetrics.LibYearPackageResult: Name: autoprefixer-rails, Version: 3.1.0.20140911, PublishedAt: 2014-09-14 00:00:00Z, Value: 0.20821917808219179 }, { LibMetrics.LibYearPackageResult: Name: bcrypt, Version: 3.1.7, PublishedAt: 2014-02-25 00:00:00Z, Value: 0 }, { LibMetrics.LibYearPackageResult: Name: bcrypt-ruby, Version: 3.1.5, PublishedAt: 2014-02-21 00:00:00Z, Value: 0 }, { LibMetrics.LibYearPackageResult: Name: better_errors, Version: 2.0.0, PublishedAt: 2014-08-20 00:00:00Z, Value: 0.6575342465753424 }, { LibMetrics.LibYearPackageResult: Name: builder, Version: 3.2.2, PublishedAt: 2013-06-01 00:00:00Z, Value: 0 }, { LibMetrics.LibYearPackageResult: Name: bust_rails_etags, Version: 0.0.5, PublishedAt: 2012-10-18 00:00:00Z, Value: 0 }, { LibMetrics.LibYearPackageResult: Name: capistrano, Version: 3.2.1, PublishedAt: 2014-04-22 00:00:00Z, Value: 0.8 }, { LibMetrics.LibYearPackageResult: Name: carrierwave, Version: 0.10.0, PublishedAt: 2014-02-26 00:00:00Z, Value: 0 }, { LibMetrics.LibYearPackageResult: Name: carrierwave_direct, Version: 0.0.14, PublishedAt: 2014-04-24 00:00:00Z, Value: 0 } ... (115 more) ]</td></tr><tr><td>14</td><td>2014-11-01 00:00:00Z</td><td>[ { LibMetrics.LibYearPackageResult: Name: actionmailer, Version: 4.1.7, PublishedAt: 2014-10-30 00:00:00Z, Value: 0 }, { LibMetrics.LibYearPackageResult: Name: actionpack, Version: 4.1.7, PublishedAt: 2014-10-30 00:00:00Z, Value: 0 }, { LibMetrics.LibYearPackageResult: Name: actionview, Version: 4.1.7, PublishedAt: 2014-10-30 00:00:00Z, Value: 0 }, { LibMetrics.LibYearPackageResult: Name: activemodel, Version: 4.1.7, PublishedAt: 2014-10-30 00:00:00Z, Value: 0 }, { LibMetrics.LibYearPackageResult: Name: activerecord, Version: 4.1.7, PublishedAt: 2014-10-30 00:00:00Z, Value: 0 }, { LibMetrics.LibYearPackageResult: Name: activerecord-import, Version: 0.6.0, PublishedAt: 2014-10-08 00:00:00Z, Value: 0.5726027397260274 }, { LibMetrics.LibYearPackageResult: Name: activesupport, Version: 4.1.7, PublishedAt: 2014-10-30 00:00:00Z, Value: 0 }, { LibMetrics.LibYearPackageResult: Name: addressable, Version: 2.3.6, PublishedAt: 2014-03-24 00:00:00Z, Value: 0 }, { LibMetrics.LibYearPackageResult: Name: aggregate, Version: 0.2.2, PublishedAt: 2011-03-05 00:00:00Z, Value: 0 }, { LibMetrics.LibYearPackageResult: Name: ansi, Version: 1.4.3, PublishedAt: 2012-06-28 00:00:00Z, Value: 0 }, { LibMetrics.LibYearPackageResult: Name: arel, Version: 5.0.1.20140414130214, PublishedAt: 2014-04-14 00:00:00Z, Value: 0 }, { LibMetrics.LibYearPackageResult: Name: autoprefixer-rails, Version: 3.1.2.20141016, PublishedAt: 2014-10-16 00:00:00Z, Value: 0.2958904109589041 }, { LibMetrics.LibYearPackageResult: Name: bcrypt, Version: 3.1.9, PublishedAt: 2014-10-23 00:00:00Z, Value: 0.6575342465753424 }, { LibMetrics.LibYearPackageResult: Name: bcrypt-ruby, Version: 3.1.5, PublishedAt: 2014-02-21 00:00:00Z, Value: 0 }, { LibMetrics.LibYearPackageResult: Name: better_errors, Version: 2.0.0, PublishedAt: 2014-08-20 00:00:00Z, Value: 0.6575342465753424 }, { LibMetrics.LibYearPackageResult: Name: builder, Version: 3.2.2, PublishedAt: 2013-06-01 00:00:00Z, Value: 0 }, { LibMetrics.LibYearPackageResult: Name: bust_rails_etags, Version: 0.0.5, PublishedAt: 2012-10-18 00:00:00Z, Value: 0 }, { LibMetrics.LibYearPackageResult: Name: capistrano, Version: 3.2.1, PublishedAt: 2014-04-22 00:00:00Z, Value: 0.8 }, { LibMetrics.LibYearPackageResult: Name: carrierwave, Version: 0.10.0, PublishedAt: 2014-02-26 00:00:00Z, Value: 0 }, { LibMetrics.LibYearPackageResult: Name: carrierwave_direct, Version: 0.0.14, PublishedAt: 2014-04-24 00:00:00Z, Value: 0 } ... (112 more) ]</td></tr><tr><td>15</td><td>2014-12-01 00:00:00Z</td><td>[ { LibMetrics.LibYearPackageResult: Name: actionmailer, Version: 4.1.7.1, PublishedAt: 2014-11-19 00:00:00Z, Value: 0.0547945205479452 }, { LibMetrics.LibYearPackageResult: Name: actionpack, Version: 4.1.7.1, PublishedAt: 2014-11-19 00:00:00Z, Value: 0.0547945205479452 }, { LibMetrics.LibYearPackageResult: Name: actionview, Version: 4.1.7.1, PublishedAt: 2014-11-19 00:00:00Z, Value: 0.0547945205479452 }, { LibMetrics.LibYearPackageResult: Name: activemodel, Version: 4.1.7.1, PublishedAt: 2014-11-19 00:00:00Z, Value: 0.0547945205479452 }, { LibMetrics.LibYearPackageResult: Name: activerecord, Version: 4.1.7.1, PublishedAt: 2014-11-19 00:00:00Z, Value: 0.0547945205479452 }, { LibMetrics.LibYearPackageResult: Name: activerecord-import, Version: 0.6.0, PublishedAt: 2014-10-08 00:00:00Z, Value: 0 }, { LibMetrics.LibYearPackageResult: Name: activesupport, Version: 4.1.7.1, PublishedAt: 2014-11-19 00:00:00Z, Value: 0.0547945205479452 }, { LibMetrics.LibYearPackageResult: Name: addressable, Version: 2.3.6, PublishedAt: 2014-03-24 00:00:00Z, Value: 0 }, { LibMetrics.LibYearPackageResult: Name: aggregate, Version: 0.2.2, PublishedAt: 2011-03-05 00:00:00Z, Value: 0 }, { LibMetrics.LibYearPackageResult: Name: ansi, Version: 1.4.3, PublishedAt: 2012-06-28 00:00:00Z, Value: 0 }, { LibMetrics.LibYearPackageResult: Name: arel, Version: 6.0.0, PublishedAt: 2014-11-25 00:00:00Z, Value: 0.6164383561643836 }, { LibMetrics.LibYearPackageResult: Name: autoprefixer-rails, Version: 4.0.1, PublishedAt: 2014-11-21 00:00:00Z, Value: 0.09863013698630137 }, { LibMetrics.LibYearPackageResult: Name: bcrypt, Version: 3.1.9, PublishedAt: 2014-10-23 00:00:00Z, Value: 0 }, { LibMetrics.LibYearPackageResult: Name: bcrypt-ruby, Version: 3.1.5, PublishedAt: 2014-02-21 00:00:00Z, Value: 0 }, { LibMetrics.LibYearPackageResult: Name: better_errors, Version: 2.0.0, PublishedAt: 2014-08-20 00:00:00Z, Value: 0 }, { LibMetrics.LibYearPackageResult: Name: builder, Version: 3.2.2, PublishedAt: 2013-06-01 00:00:00Z, Value: 0 }, { LibMetrics.LibYearPackageResult: Name: bust_rails_etags, Version: 0.0.5, PublishedAt: 2012-10-18 00:00:00Z, Value: 0 }, { LibMetrics.LibYearPackageResult: Name: capistrano, Version: 3.3.3, PublishedAt: 2014-11-27 00:00:00Z, Value: 1.4 }, { LibMetrics.LibYearPackageResult: Name: carrierwave, Version: 0.10.0, PublishedAt: 2014-02-26 00:00:00Z, Value: 0 }, { LibMetrics.LibYearPackageResult: Name: carrierwave_direct, Version: 0.0.14, PublishedAt: 2014-04-24 00:00:00Z, Value: 0 } ... (119 more) ]</td></tr><tr><td>16</td><td>2015-01-01 00:00:00Z</td><td>[ { LibMetrics.LibYearPackageResult: Name: actionmailer, Version: 4.2.0, PublishedAt: 2014-12-20 00:00:00Z, Value: 0.13972602739726028 }, { LibMetrics.LibYearPackageResult: Name: actionpack, Version: 4.2.0, PublishedAt: 2014-12-20 00:00:00Z, Value: 0.13972602739726028 }, { LibMetrics.LibYearPackageResult: Name: actionview, Version: 4.2.0, PublishedAt: 2014-12-20 00:00:00Z, Value: 0.13972602739726028 }, { LibMetrics.LibYearPackageResult: Name: activemodel, Version: 4.2.0, PublishedAt: 2014-12-20 00:00:00Z, Value: 0.13972602739726028 }, { LibMetrics.LibYearPackageResult: Name: activerecord, Version: 4.2.0, PublishedAt: 2014-12-20 00:00:00Z, Value: 0.13972602739726028 }, { LibMetrics.LibYearPackageResult: Name: activerecord-import, Version: 0.7.0, PublishedAt: 2014-12-22 00:00:00Z, Value: 0.2054794520547945 }, { LibMetrics.LibYearPackageResult: Name: activesupport, Version: 4.2.0, PublishedAt: 2014-12-20 00:00:00Z, Value: 0.13972602739726028 }, { LibMetrics.LibYearPackageResult: Name: addressable, Version: 2.3.6, PublishedAt: 2014-03-24 00:00:00Z, Value: 0 }, { LibMetrics.LibYearPackageResult: Name: aggregate, Version: 0.2.2, PublishedAt: 2011-03-05 00:00:00Z, Value: 0 }, { LibMetrics.LibYearPackageResult: Name: ansi, Version: 1.4.3, PublishedAt: 2012-06-28 00:00:00Z, Value: 0 }, { LibMetrics.LibYearPackageResult: Name: arel, Version: 6.0.0, PublishedAt: 2014-11-25 00:00:00Z, Value: 0.6164383561643836 }, { LibMetrics.LibYearPackageResult: Name: autoprefixer-rails, Version: 4.0.2.2, PublishedAt: 2014-12-24 00:00:00Z, Value: 0.18904109589041096 }, { LibMetrics.LibYearPackageResult: Name: bcrypt, Version: 3.1.9, PublishedAt: 2014-10-23 00:00:00Z, Value: 0 }, { LibMetrics.LibYearPackageResult: Name: bcrypt-ruby, Version: 3.1.5, PublishedAt: 2014-02-21 00:00:00Z, Value: 0 }, { LibMetrics.LibYearPackageResult: Name: better_errors, Version: 2.1.0, PublishedAt: 2014-12-23 00:00:00Z, Value: 0.3424657534246575 }, { LibMetrics.LibYearPackageResult: Name: builder, Version: 3.2.2, PublishedAt: 2013-06-01 00:00:00Z, Value: 0 }, { LibMetrics.LibYearPackageResult: Name: bust_rails_etags, Version: 0.0.5, PublishedAt: 2012-10-18 00:00:00Z, Value: 0 }, { LibMetrics.LibYearPackageResult: Name: capistrano, Version: 3.3.5, PublishedAt: 2014-12-12 00:00:00Z, Value: 1.441095890410959 }, { LibMetrics.LibYearPackageResult: Name: carrierwave, Version: 0.10.0, PublishedAt: 2014-02-26 00:00:00Z, Value: 0 }, { LibMetrics.LibYearPackageResult: Name: carrierwave_direct, Version: 0.0.14, PublishedAt: 2014-04-24 00:00:00Z, Value: 0 } ... (120 more) ]</td></tr><tr><td>17</td><td>2015-02-01 00:00:00Z</td><td>[ { LibMetrics.LibYearPackageResult: Name: actionmailer, Version: 4.0.13, PublishedAt: 2015-01-06 00:00:00Z, Value: 0.1863013698630137 }, { LibMetrics.LibYearPackageResult: Name: actionpack, Version: 4.0.13, PublishedAt: 2015-01-06 00:00:00Z, Value: 0.1863013698630137 }, { LibMetrics.LibYearPackageResult: Name: actionview, Version: 4.1.9, PublishedAt: 2015-01-06 00:00:00Z, Value: 0.1863013698630137 }, { LibMetrics.LibYearPackageResult: Name: activemodel, Version: 4.0.13, PublishedAt: 2015-01-06 00:00:00Z, Value: 0.1863013698630137 }, { LibMetrics.LibYearPackageResult: Name: activerecord, Version: 4.0.13, PublishedAt: 2015-01-06 00:00:00Z, Value: 0.1863013698630137 }, { LibMetrics.LibYearPackageResult: Name: activerecord-import, Version: 0.7.0, PublishedAt: 2014-12-22 00:00:00Z, Value: 0.2054794520547945 }, { LibMetrics.LibYearPackageResult: Name: activesupport, Version: 4.0.13, PublishedAt: 2015-01-06 00:00:00Z, Value: 0.1863013698630137 }, { LibMetrics.LibYearPackageResult: Name: addressable, Version: 2.3.6, PublishedAt: 2014-03-24 00:00:00Z, Value: 0 }, { LibMetrics.LibYearPackageResult: Name: aggregate, Version: 0.2.2, PublishedAt: 2011-03-05 00:00:00Z, Value: 0 }, { LibMetrics.LibYearPackageResult: Name: ansi, Version: 1.5.0, PublishedAt: 2015-01-17 00:00:00Z, Value: 2.5561643835616437 }, { LibMetrics.LibYearPackageResult: Name: arel, Version: 6.0.0, PublishedAt: 2014-11-25 00:00:00Z, Value: 0.6164383561643836 }, { LibMetrics.LibYearPackageResult: Name: autoprefixer-rails, Version: 5.1.0, PublishedAt: 2015-01-29 00:00:00Z, Value: 0.2876712328767123 }, { LibMetrics.LibYearPackageResult: Name: bcrypt, Version: 3.1.10, PublishedAt: 2015-01-29 00:00:00Z, Value: 0.2684931506849315 }, { LibMetrics.LibYearPackageResult: Name: bcrypt-ruby, Version: 3.1.5, PublishedAt: 2014-02-21 00:00:00Z, Value: 0 }, { LibMetrics.LibYearPackageResult: Name: benchmark-ips, Version: 2.1.1, PublishedAt: 2015-01-12 00:00:00Z, Value: 0.1726027397260274 }, { LibMetrics.LibYearPackageResult: Name: better_errors, Version: 2.1.1, PublishedAt: 2015-01-09 00:00:00Z, Value: 0.38904109589041097 }, { LibMetrics.LibYearPackageResult: Name: builder, Version: 3.2.2, PublishedAt: 2013-06-01 00:00:00Z, Value: 0 }, { LibMetrics.LibYearPackageResult: Name: bust_rails_etags, Version: 0.0.5, PublishedAt: 2012-10-18 00:00:00Z, Value: 0 }, { LibMetrics.LibYearPackageResult: Name: capistrano, Version: 3.3.5, PublishedAt: 2014-12-12 00:00:00Z, Value: 1.441095890410959 }, { LibMetrics.LibYearPackageResult: Name: carrierwave, Version: 0.10.0, PublishedAt: 2014-02-26 00:00:00Z, Value: 0 } ... (121 more) ]</td></tr><tr><td>18</td><td>2015-03-01 00:00:00Z</td><td>[ { LibMetrics.LibYearPackageResult: Name: actionmailer, Version: 4.0.13, PublishedAt: 2015-01-06 00:00:00Z, Value: 0.1863013698630137 }, { LibMetrics.LibYearPackageResult: Name: actionpack, Version: 4.0.13, PublishedAt: 2015-01-06 00:00:00Z, Value: 0.1863013698630137 }, { LibMetrics.LibYearPackageResult: Name: actionview, Version: 4.1.9, PublishedAt: 2015-01-06 00:00:00Z, Value: 0.1863013698630137 }, { LibMetrics.LibYearPackageResult: Name: activemodel, Version: 4.0.13, PublishedAt: 2015-01-06 00:00:00Z, Value: 0.1863013698630137 }, { LibMetrics.LibYearPackageResult: Name: activerecord, Version: 4.0.13, PublishedAt: 2015-01-06 00:00:00Z, Value: 0.1863013698630137 }, { LibMetrics.LibYearPackageResult: Name: activerecord-import, Version: 0.7.0, PublishedAt: 2014-12-22 00:00:00Z, Value: 0.2054794520547945 }, { LibMetrics.LibYearPackageResult: Name: activesupport, Version: 4.0.13, PublishedAt: 2015-01-06 00:00:00Z, Value: 0.1863013698630137 }, { LibMetrics.LibYearPackageResult: Name: addressable, Version: 2.3.7, PublishedAt: 2015-02-05 00:00:00Z, Value: 0.8712328767123287 }, { LibMetrics.LibYearPackageResult: Name: aggregate, Version: 0.2.2, PublishedAt: 2011-03-05 00:00:00Z, Value: 0 }, { LibMetrics.LibYearPackageResult: Name: ansi, Version: 1.5.0, PublishedAt: 2015-01-17 00:00:00Z, Value: 2.5561643835616437 }, { LibMetrics.LibYearPackageResult: Name: arel, Version: 6.0.0, PublishedAt: 2014-11-25 00:00:00Z, Value: 0.6164383561643836 }, { LibMetrics.LibYearPackageResult: Name: autoprefixer-rails, Version: 5.1.7, PublishedAt: 2015-02-20 00:00:00Z, Value: 0.34794520547945207 }, { LibMetrics.LibYearPackageResult: Name: bcrypt, Version: 3.1.10, PublishedAt: 2015-01-29 00:00:00Z, Value: 0.2684931506849315 }, { LibMetrics.LibYearPackageResult: Name: bcrypt-ruby, Version: 3.1.5, PublishedAt: 2014-02-21 00:00:00Z, Value: 0 }, { LibMetrics.LibYearPackageResult: Name: benchmark-ips, Version: 2.1.1, PublishedAt: 2015-01-12 00:00:00Z, Value: 0.1726027397260274 }, { LibMetrics.LibYearPackageResult: Name: better_errors, Version: 2.1.1, PublishedAt: 2015-01-09 00:00:00Z, Value: 0.38904109589041097 }, { LibMetrics.LibYearPackageResult: Name: builder, Version: 3.2.2, PublishedAt: 2013-06-01 00:00:00Z, Value: 0 }, { LibMetrics.LibYearPackageResult: Name: bust_rails_etags, Version: 0.0.5, PublishedAt: 2012-10-18 00:00:00Z, Value: 0 }, { LibMetrics.LibYearPackageResult: Name: capistrano, Version: 3.3.5, PublishedAt: 2014-12-12 00:00:00Z, Value: 1.441095890410959 }, { LibMetrics.LibYearPackageResult: Name: carrierwave, Version: 0.10.0, PublishedAt: 2014-02-26 00:00:00Z, Value: 0 } ... (121 more) ]</td></tr><tr><td>19</td><td>2015-04-01 00:00:00Z</td><td>[ { LibMetrics.LibYearPackageResult: Name: actionmailer, Version: 4.1.10, PublishedAt: 2015-03-19 00:00:00Z, Value: 0.3835616438356164 }, { LibMetrics.LibYearPackageResult: Name: actionpack, Version: 4.1.10, PublishedAt: 2015-03-19 00:00:00Z, Value: 0.3835616438356164 }, { LibMetrics.LibYearPackageResult: Name: actionview, Version: 4.1.10, PublishedAt: 2015-03-19 00:00:00Z, Value: 0.3835616438356164 }, { LibMetrics.LibYearPackageResult: Name: activemodel, Version: 4.1.10, PublishedAt: 2015-03-19 00:00:00Z, Value: 0.3835616438356164 }, { LibMetrics.LibYearPackageResult: Name: activerecord, Version: 4.1.10, PublishedAt: 2015-03-19 00:00:00Z, Value: 0.3835616438356164 }, { LibMetrics.LibYearPackageResult: Name: activerecord-import, Version: 0.7.0, PublishedAt: 2014-12-22 00:00:00Z, Value: 0.2054794520547945 }, { LibMetrics.LibYearPackageResult: Name: activesupport, Version: 4.1.10, PublishedAt: 2015-03-19 00:00:00Z, Value: 0.3835616438356164 }, { LibMetrics.LibYearPackageResult: Name: addressable, Version: 2.3.8, PublishedAt: 2015-03-27 00:00:00Z, Value: 1.0082191780821919 }, { LibMetrics.LibYearPackageResult: Name: aggregate, Version: 0.2.2, PublishedAt: 2011-03-05 00:00:00Z, Value: 0 }, { LibMetrics.LibYearPackageResult: Name: ansi, Version: 1.5.0, PublishedAt: 2015-01-17 00:00:00Z, Value: 2.5561643835616437 }, { LibMetrics.LibYearPackageResult: Name: arel, Version: 6.0.0, PublishedAt: 2014-11-25 00:00:00Z, Value: 0.6164383561643836 }, { LibMetrics.LibYearPackageResult: Name: autoprefixer-rails, Version: 5.1.8, PublishedAt: 2015-03-26 00:00:00Z, Value: 0.4410958904109589 }, { LibMetrics.LibYearPackageResult: Name: bcrypt, Version: 3.1.10, PublishedAt: 2015-01-29 00:00:00Z, Value: 0.2684931506849315 }, { LibMetrics.LibYearPackageResult: Name: bcrypt-ruby, Version: 3.1.5, PublishedAt: 2014-02-21 00:00:00Z, Value: 0 }, { LibMetrics.LibYearPackageResult: Name: benchmark-ips, Version: 2.1.1, PublishedAt: 2015-01-12 00:00:00Z, Value: 0.1726027397260274 }, { LibMetrics.LibYearPackageResult: Name: better_errors, Version: 2.1.1, PublishedAt: 2015-01-09 00:00:00Z, Value: 0.38904109589041097 }, { LibMetrics.LibYearPackageResult: Name: builder, Version: 3.2.2, PublishedAt: 2013-06-01 00:00:00Z, Value: 0 }, { LibMetrics.LibYearPackageResult: Name: bust_rails_etags, Version: 0.0.5, PublishedAt: 2012-10-18 00:00:00Z, Value: 0 }, { LibMetrics.LibYearPackageResult: Name: capistrano, Version: 3.4.0, PublishedAt: 2015-03-02 00:00:00Z, Value: 1.6602739726027398 }, { LibMetrics.LibYearPackageResult: Name: carrierwave, Version: 0.10.0, PublishedAt: 2014-02-26 00:00:00Z, Value: 0 } ... (122 more) ]</td></tr><tr><td colspan=\"3\">(62 more)</td></tr></tbody></table>"
      ]
     },
     "execution_count": 4,
     "metadata": {},
     "output_type": "execute_result"
    }
   ],
   "source": [
    " projects[\"feedbin\"]"
   ]
  },
  {
   "cell_type": "code",
   "execution_count": null,
   "metadata": {
    "nteract": {
     "transient": {
      "deleting": false
     }
    },
    "outputExpanded": false
   },
   "outputs": [],
   "source": []
  }
 ],
 "metadata": {
  "kernel_info": {
   "name": ".net-csharp"
  },
  "kernelspec": {
   "display_name": ".NET (C#)",
   "language": "C#",
   "name": ".net-csharp"
  },
  "language_info": {
   "file_extension": ".cs",
   "mimetype": "text/x-csharp",
   "name": "C#",
   "pygments_lexer": "csharp",
   "version": "8.0"
  },
  "nteract": {
   "version": "0.23.1"
  }
 },
 "nbformat": 4,
 "nbformat_minor": 4
}
