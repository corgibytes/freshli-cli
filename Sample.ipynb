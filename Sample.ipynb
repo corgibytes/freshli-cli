{
  "cells": [
    {
      "cell_type": "code",
      "source": [
        "#!pwsh\n",
        "ls"
      ],
      "outputs": [
        {
          "output_type": "display_data",
          "data": {
            "text/html": [
              "<script type=\"text/javascript\">#!javascript\r\n",
              "if ((typeof(requirejs) !==  typeof(Function)) || (typeof(requirejs.config) !== typeof(Function))) { \r\n",
              "    let script = document.createElement(\"script\"); \r\n",
              "    script.setAttribute(\"src\", \"https://cdnjs.cloudflare.com/ajax/libs/require.js/2.3.6/require.min.js\"); \r\n",
              "    script.onload = function(){\r\n",
              "        loadDotnetInteractiveApi();\r\n",
              "    };\r\n",
              "    document.getElementsByTagName(\"head\")[0].appendChild(script); \r\n",
              "}\r\n",
              "else {\r\n",
              "    loadDotnetInteractiveApi();\r\n",
              "}\r\n",
              "\r\n",
              "function loadDotnetInteractiveApi(){\r\n",
              "    let apiRequire = requirejs.config({context:\"dotnet-interactive.52800.54906\",paths:{dotnetInteractive:\"http://localhost:54906/resources/dotnet-interactive\"}});\r\n",
              "    apiRequire(['dotnetInteractive'], \r\n",
              "    function(api) {       \r\n",
              "        api.createDotnetInteractiveClient(\"http://localhost:54906/\", window);\r\n",
              "    },\r\n",
              "    function(error){\r\n",
              "        console.log(error);\r\n",
              "    });\r\n",
              "}</script>"
            ]
          },
          "metadata": {}
        },
        {
          "output_type": "stream",
          "name": "stdout",
          "text": [
            "LibMetrics\n",
            "LibMetrics.Test\n",
            "LibMetrics.sln\n",
            "LibMetrics.sln.DotSettings.user\n",
            "README.md\n",
            "Sample.ipynb\n",
            "global.json\n"
          ]
        }
      ],
      "execution_count": 1,
      "metadata": {
        "collapsed": true,
        "outputExpanded": false,
        "jupyter": {
          "source_hidden": false,
          "outputs_hidden": false
        },
        "nteract": {
          "transient": {
            "deleting": false
          }
        },
        "execution": {
          "iopub.status.busy": "2020-05-22T04:40:53.130Z",
          "iopub.execute_input": "2020-05-22T04:40:53.145Z",
          "iopub.status.idle": "2020-05-22T04:40:53.933Z"
        }
      }
    },
    {
      "cell_type": "code",
      "source": [
        "#!pwsh\n",
        "#!time\n",
        "dotnet build\n",
        "dotnet pack\n",
        "Get-ChildItem -Recurse *.nupkg"
      ],
      "outputs": [
        {
          "output_type": "stream",
          "name": "stdout",
          "text": [
            "Microsoft (R) Build Engine version 16.6.0+5ff7b0c9e for .NET Core\n",
            "Copyright (C) Microsoft Corporation. All rights reserved.\n",
            "\n",
            "  Determining projects to restore...\n",
            "  Restored /Users/mscottford/src/corgibytes/libmetrics/LibMetrics/LibMetrics.csproj (in 240 ms).\n",
            "  Restored /Users/mscottford/src/corgibytes/libmetrics/LibMetrics.Test/LibMetrics.Test.csproj (in 392 ms).\n",
            "  LibMetrics -> /Users/mscottford/src/corgibytes/libmetrics/LibMetrics/bin/Debug/netcoreapp3.1/LibMetrics.dll\n",
            "  LibMetrics.Test -> /Users/mscottford/src/corgibytes/libmetrics/LibMetrics.Test/bin/Debug/netcoreapp3.1/LibMetrics.Test.dll\n",
            "  Archive:  nokotest.zip\n",
            "    inflating: nokotest/Gemfile        \n",
            "    inflating: nokotest/Gemfile.lock   \n",
            "    inflating: nokotest/.git/config    \n",
            "   extracting: nokotest/.git/objects/0d/8f4f864a22eac5f72153cf1d77fc9791796e6d  \n",
            "   extracting: nokotest/.git/objects/93/e24fec7e2d55e1f2649989a131b1a044008e60  \n",
            "   extracting: nokotest/.git/objects/bb/e94adc863a728d5c63b1293a7d1d81ac437f30  \n",
            "   extracting: nokotest/.git/objects/6e/dae1c2dc746439f567894cf77effc7a8abf97b  \n",
            "   extracting: nokotest/.git/objects/01/7031627f36deb582d69cddd381718be0044b02  \n",
            "   extracting: nokotest/.git/objects/90/2a3082740f83776eec419c59a56e54424fdec5  \n",
            "   extracting: nokotest/.git/objects/b9/803963c64c5c8794334bb667d98c969add6fd0  \n",
            "   extracting: nokotest/.git/objects/b9/d397bcc26e2a820a2e077298f35521b154febd  \n",
            "   extracting: nokotest/.git/objects/c4/a0ab82b5bf0d03d646348bce24527d84d8bfe4  \n",
            "   extracting: nokotest/.git/objects/e1/be34540508cfb94fea222ecdc61a95652068ee  \n",
            "   extracting: nokotest/.git/objects/76/06873e8c521ba79d093029969c2da124ed03d3  \n",
            "   extracting: nokotest/.git/objects/13/963f09081c175c66d20f7dd15d23fedc789ce4  \n",
            "   extracting: nokotest/.git/HEAD      \n",
            "    inflating: nokotest/.git/info/exclude  \n",
            "    inflating: nokotest/.git/logs/HEAD  \n",
            "    inflating: nokotest/.git/logs/refs/heads/master  \n",
            "    inflating: nokotest/.git/description  \n",
            "    inflating: nokotest/.git/hooks/commit-msg.sample  \n",
            "    inflating: nokotest/.git/hooks/pre-rebase.sample  \n",
            "    inflating: nokotest/.git/hooks/pre-commit.sample  \n",
            "    inflating: nokotest/.git/hooks/applypatch-msg.sample  \n",
            "    inflating: nokotest/.git/hooks/prepare-commit-msg.sample  \n",
            "    inflating: nokotest/.git/hooks/post-update.sample  \n",
            "    inflating: nokotest/.git/hooks/pre-applypatch.sample  \n",
            "    inflating: nokotest/.git/hooks/pre-push.sample  \n",
            "    inflating: nokotest/.git/hooks/update.sample  \n",
            "   extracting: nokotest/.git/refs/heads/master  \n",
            "    inflating: nokotest/.git/index     \n",
            "   extracting: nokotest/.git/COMMIT_EDITMSG  \n",
            "\n",
            "Build succeeded.\n",
            "    0 Warning(s)\n",
            "    0 Error(s)\n",
            "\n",
            "Time Elapsed 00:00:04.66\n",
            "Microsoft (R) Build Engine version 16.6.0+5ff7b0c9e for .NET Core\n",
            "Copyright (C) Microsoft Corporation. All rights reserved.\n",
            "\n",
            "  Determining projects to restore...\n",
            "  All projects are up-to-date for restore.\n",
            "  LibMetrics -> /Users/mscottford/src/corgibytes/libmetrics/LibMetrics/bin/Debug/netcoreapp3.1/LibMetrics.dll\n",
            "  Successfully created package '/Users/mscottford/src/corgibytes/libmetrics/LibMetrics/bin/Debug/LibMetrics.1.0.0-dev-20200522T0041.nupkg'.\n",
            "\n",
            "\n",
            "    Directory: /Users/mscottford/src/corgibytes/libmetrics/LibMetrics/bin/Debug\n",
            "\n",
            "Mode                 LastWriteTime         Length Name\n",
            "----                 -------------         ------ ----\n",
            "-----          05/21/2020    21:23          15201 LibMetrics.1.0.0-dev-20200521T21231938.nupkg\n",
            "-----          05/21/2020    21:23          15191 LibMetrics.1.0.0-dev-20200521T21234244.nupkg\n",
            "-----          05/21/2020    21:24          15197 LibMetrics.1.0.0-dev-20200521T21240825.nupkg\n",
            "-----          05/21/2020    21:29          15200 LibMetrics.1.0.0-dev-20200521T21290647.nupkg\n",
            "-----          05/22/2020    00:41          15343 LibMetrics.1.0.0-dev-20200522T0041.nupkg\n",
            "\n"
          ]
        },
        {
          "output_type": "display_data",
          "data": {
            "text/plain": [
              "Wall time: 9037.4281ms"
            ]
          },
          "metadata": {}
        }
      ],
      "execution_count": 2,
      "metadata": {
        "collapsed": true,
        "outputExpanded": false,
        "jupyter": {
          "source_hidden": false,
          "outputs_hidden": false
        },
        "nteract": {
          "transient": {
            "deleting": false
          }
        },
        "execution": {
          "iopub.status.busy": "2020-05-22T04:40:53.937Z",
          "iopub.execute_input": "2020-05-22T04:40:53.939Z",
          "iopub.status.idle": "2020-05-22T04:41:02.977Z"
        }
      }
    },
    {
      "cell_type": "code",
      "source": [
        "#i nuget:/Users/mscottford/src/corgibytes/libmetrics/LibMetrics/bin/Debug\n",
        "#r nuget:libmetrics,1.0.0-dev"
      ],
      "outputs": [
        {
          "output_type": "display_data",
          "data": {
            "text/html": [
              "<div><strong>Restore sources</strong><ul><li><span>/Users/mscottford/src/corgibytes/libmetrics/LibMetrics/bin/Debug</span></li></ul></div>"
            ]
          },
          "metadata": {}
        },
        {
          "output_type": "display_data",
          "data": {
            "text/html": [
              "Installed package LibMetrics version 1.0.0-dev-20200521T21231938"
            ]
          },
          "metadata": {}
        }
      ],
      "execution_count": 3,
      "metadata": {
        "collapsed": true,
        "outputExpanded": false,
        "jupyter": {
          "source_hidden": false,
          "outputs_hidden": false
        },
        "nteract": {
          "transient": {
            "deleting": false
          }
        },
        "execution": {
          "iopub.status.busy": "2020-05-22T04:41:02.981Z",
          "iopub.execute_input": "2020-05-22T04:41:02.983Z",
          "iopub.status.idle": "2020-05-22T04:41:06.093Z"
        }
      }
    },
    {
      "cell_type": "code",
      "source": [
        "using XPlot.Plotly;\n",
        "\n",
        "using LibMetrics;\n",
        "using LibMetrics.Languages.Ruby;\n",
        "using LibMetrics.Languages.Php;\n",
        "\n",
        "ManifestFinder.Register<RubyBundlerManifestFinder>();\n",
        "ManifestFinder.Register<PhpComposerManifestFinder>();\n",
        "\n",
        "FileHistoryFinder.Register<GitFileHistoryFinder>();\n",
        "\n",
        "var runner = new Runner();\n",
        "\n",
        "var projects = new Dictionary<string, IList<MetricsResult>>();\n",
        "projects[\"libmetrics-fixture-ruby-nokotest\"] = runner.Run(\"https://github.com/corgibytes/libmetrics-fixture-ruby-nokotest\");\n",
        "projects[\"feedbin\"] = runner.Run(\"https://github.com/feedbin/feedbin\");\n",
        "\n",
        "\n",
        "var series = projects.Select(p => new Graph.Scattergl { \n",
        "  name = p.Key, \n",
        "  x = p.Value.Select(r => r.Date),\n",
        "  y = p.Value.Select(r => r.LibYear.Total)\n",
        "});\n",
        "\n",
        "\n",
        "var chart = Chart.Plot(series.ToArray());\n",
        "chart.WithTitle(\"LibYear over time\");\n",
        "display(chart)"
      ],
      "outputs": [
        {
          "output_type": "execute_result",
          "execution_count": 4,
          "data": {
            "text/html": [
              "<table><thead><tr>&lt;null&gt;</tr></thead><tbody></tbody></table>"
            ]
          },
          "metadata": {}
        }
      ],
      "execution_count": 4,
      "metadata": {
        "collapsed": true,
        "outputExpanded": false,
        "jupyter": {
          "source_hidden": false,
          "outputs_hidden": false
        },
        "nteract": {
          "transient": {
            "deleting": false
          }
        },
        "execution": {
          "iopub.status.busy": "2020-05-22T04:41:06.096Z",
          "iopub.execute_input": "2020-05-22T04:41:06.098Z",
          "iopub.status.idle": "2020-05-22T04:41:17.880Z"
        }
      }
    },
    {
      "cell_type": "code",
      "source": [
        " "
      ],
      "outputs": [],
      "execution_count": 5,
      "metadata": {
        "collapsed": true,
        "outputExpanded": false,
        "jupyter": {
          "source_hidden": false,
          "outputs_hidden": false
        },
        "nteract": {
          "transient": {
            "deleting": false
          }
        },
        "execution": {
          "iopub.status.busy": "2020-05-22T04:41:17.883Z",
          "iopub.execute_input": "2020-05-22T04:41:17.886Z",
          "iopub.status.idle": "2020-05-22T04:41:17.895Z"
        }
      }
    },
    {
      "cell_type": "code",
      "source": [],
      "outputs": [],
      "execution_count": null,
      "metadata": {
        "collapsed": true,
        "outputExpanded": false,
        "jupyter": {
          "source_hidden": false,
          "outputs_hidden": false
        },
        "nteract": {
          "transient": {
            "deleting": false
          }
        }
      }
    }
  ],
  "metadata": {
    "kernel_info": {
      "name": ".net-csharp"
    },
    "language_info": {
      "name": "C#",
      "version": "8.0",
      "mimetype": "text/x-csharp",
      "file_extension": ".cs",
      "pygments_lexer": "csharp"
    },
    "kernelspec": {
      "argv": [
        "dotnet",
        "interactive",
        "jupyter",
        "--default-kernel",
        "csharp",
        "{connection_file}"
      ],
      "display_name": ".NET (C#)",
      "language": "C#",
      "name": ".net-csharp"
    },
    "nteract": {
      "version": "0.23.1"
    }
  },
  "nbformat": 4,
  "nbformat_minor": 0
}